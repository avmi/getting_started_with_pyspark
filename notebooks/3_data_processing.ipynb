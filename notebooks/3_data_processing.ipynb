{
 "cells": [
  {
   "cell_type": "code",
   "execution_count": null,
   "metadata": {},
   "outputs": [],
   "source": [
    "from datetime import datetime, timedelta\n",
    "\n",
    "# pandas and plotting libraries for visualizations\n",
    "import pandas as pd\n",
    "import matplotlib.pyplot as plt\n",
    "import seaborn as sns\n",
    "\n",
    "# module containing functions for manipulation pyspark dataframes\n",
    "import pyspark.sql.functions as f\n",
    "import pyspark.sql.types as t\n",
    "from pyspark.sql.window import Window\n",
    "\n",
    "# class which will let us create spark objects\n",
    "from pyspark.sql import SparkSession\n",
    "\n",
    "# helper functions for the class\n",
    "from helpers import display, read_df, write_df"
   ]
  },
  {
   "cell_type": "markdown",
   "metadata": {},
   "source": [
    "## [PySpark SQL docs](https://spark.apache.org/docs/latest/api/python/pyspark.sql.html)"
   ]
  },
  {
   "cell_type": "markdown",
   "metadata": {},
   "source": [
    "## Create a Spark Session"
   ]
  },
  {
   "cell_type": "code",
   "execution_count": null,
   "metadata": {},
   "outputs": [],
   "source": [
    "spark = (\n",
    "    SparkSession\n",
    "    .builder\n",
    "    .appName('data_processing')\n",
    "    .master('local[2]')\n",
    "    .getOrCreate()\n",
    ")"
   ]
  },
  {
   "cell_type": "markdown",
   "metadata": {},
   "source": [
    "## Read in data file"
   ]
  },
  {
   "cell_type": "code",
   "execution_count": null,
   "metadata": {},
   "outputs": [],
   "source": [
    "df = read_df(spark, '../taxi_2016')"
   ]
  },
  {
   "cell_type": "code",
   "execution_count": null,
   "metadata": {},
   "outputs": [],
   "source": [
    "df.columns"
   ]
  },
  {
   "cell_type": "code",
   "execution_count": null,
   "metadata": {},
   "outputs": [],
   "source": [
    "# only have tip data for credit card transactions\n",
    "tips = df.where(f.col('payment_type') == 'Credit Card')"
   ]
  },
  {
   "cell_type": "markdown",
   "metadata": {},
   "source": [
    "# Features"
   ]
  },
  {
   "cell_type": "markdown",
   "metadata": {},
   "source": [
    "### Columns we get for free"
   ]
  },
  {
   "cell_type": "code",
   "execution_count": null,
   "metadata": {},
   "outputs": [],
   "source": [
    "display(\n",
    "    df.select(\n",
    "        'trip_id',\n",
    "        'company',\n",
    "        'trip_miles',\n",
    "        'fare',\n",
    "    )\n",
    ")"
   ]
  },
  {
   "cell_type": "markdown",
   "metadata": {},
   "source": [
    "### Time based features"
   ]
  },
  {
   "cell_type": "code",
   "execution_count": null,
   "metadata": {},
   "outputs": [],
   "source": [
    "display(\n",
    "    df.select(\n",
    "        'start_time',\n",
    "        'end_time',\n",
    "        f.month('start_time').alias('start_month'),\n",
    "        f.dayofweek('start_time').alias('start_day_of_week'),\n",
    "        f.hour('start_time').alias('start_hour'),\n",
    "    )\n",
    ")"
   ]
  },
  {
   "cell_type": "code",
   "execution_count": null,
   "metadata": {},
   "outputs": [],
   "source": [
    "# raw pyspark\n",
    "display(\n",
    "    (\n",
    "        tips\n",
    "        .withColumn(\n",
    "            'trip_minutes',\n",
    "            (f.unix_timestamp(f.col('end_time')) - f.unix_timestamp(f.col('start_time')))/60,\n",
    "        )\n",
    "        .select('start_time', 'end_time', 'trip_minutes')\n",
    "    ),\n",
    "    10,\n",
    ")"
   ]
  },
  {
   "cell_type": "code",
   "execution_count": null,
   "metadata": {},
   "outputs": [],
   "source": [
    "# raw pyspark\n",
    "display(\n",
    "    (\n",
    "        tips\n",
    "        .select(\n",
    "            'start_time',\n",
    "            'end_time',\n",
    "            ((f.unix_timestamp(f.col('end_time')) - f.unix_timestamp(f.col('start_time')))/60).alias('trip_minutes'),\n",
    "        )\n",
    "    ),\n",
    "    10,\n",
    ")"
   ]
  },
  {
   "cell_type": "code",
   "execution_count": null,
   "metadata": {},
   "outputs": [],
   "source": [
    "# pandas (vectorized) UDF\n",
    "def time_diff_pd(start_time_series, end_time_series):\n",
    "    return (end_time_series - start_time_series)/timedelta(minutes=1)\n",
    "\n",
    "time_diff_pd_udf = f.pandas_udf(time_diff_pd, t.IntegerType())\n",
    "\n",
    "display(\n",
    "    (\n",
    "        tips\n",
    "        .withColumn('trip_minutes', time_diff_pd_udf(f.col('start_time'), f.col('end_time')))\n",
    "        .select('start_time', 'end_time', 'trip_minutes')\n",
    "    ),\n",
    "    10,\n",
    ")f"
   ]
  },
  {
   "cell_type": "code",
   "execution_count": null,
   "metadata": {},
   "outputs": [],
   "source": [
    "# python UDF\n",
    "time_diff_udf = f.udf(lambda start_time, end_time: (end_time - start_time)/timedelta(minutes=1))\n",
    "\n",
    "display(\n",
    "    (\n",
    "        tips\n",
    "        .withColumn('trip_minutes', time_diff_udf(f.col('start_time'), f.col('end_time')))\n",
    "        .select('start_time', 'end_time', 'trip_minutes')\n",
    "    ),\n",
    "    10,\n",
    ")"
   ]
  },
  {
   "cell_type": "markdown",
   "metadata": {},
   "source": [
    "### Location based feature"
   ]
  },
  {
   "cell_type": "code",
   "execution_count": null,
   "metadata": {},
   "outputs": [],
   "source": [
    "avg_miles_by_census_tract = (\n",
    "    tips\n",
    "    .groupby('dropoff_census_tract')\n",
    "    .agg(f.avg(f.col('trip_miles')).alias('avg_miles_by_census_tract'))\n",
    ")\n",
    "\n",
    "display(avg_miles_by_census_tract, 10)"
   ]
  },
  {
   "cell_type": "code",
   "execution_count": null,
   "metadata": {},
   "outputs": [],
   "source": [
    "display(\n",
    "    (\n",
    "        tips\n",
    "        .join(avg_miles_by_census_tract, on='dropoff_census_tract', how='left')\n",
    "        .select('pickup_census_tract', 'dropoff_census_tract', 'avg_miles_by_census_tract')\n",
    "    ),\n",
    "    10,\n",
    ")"
   ]
  },
  {
   "cell_type": "code",
   "execution_count": null,
   "metadata": {},
   "outputs": [],
   "source": [
    "census_block_window = Window().partitionBy('dropoff_census_tract')\n",
    "\n",
    "display(\n",
    "    (\n",
    "        tips\n",
    "        .withColumn('avg_miles_by_census_tract', f.avg(f.col('trip_miles')).over(census_block_window))\n",
    "        .select('pickup_census_tract', 'dropoff_census_tract', 'avg_miles_by_census_tract')\n",
    "    ),\n",
    "    10\n",
    ")"
   ]
  },
  {
   "cell_type": "markdown",
   "metadata": {},
   "source": [
    "## Exercises"
   ]
  },
  {
   "cell_type": "code",
   "execution_count": null,
   "metadata": {},
   "outputs": [],
   "source": [
    "# Can you build a function that takes in a dataframe with the columns found in `taxi_2016`\n",
    "# and output features discussed above?"
   ]
  },
  {
   "cell_type": "code",
   "execution_count": null,
   "metadata": {},
   "outputs": [],
   "source": []
  },
  {
   "cell_type": "code",
   "execution_count": null,
   "metadata": {},
   "outputs": [],
   "source": [
    "# What other data points might be useful to predict what tip a given trip would have?\n",
    "# Can you construct a column with that information?\n",
    "\n",
    "# Since this prompt is wide open I've not written out a direct solution, but encourage\n",
    "# you to play with different options!"
   ]
  },
  {
   "cell_type": "code",
   "execution_count": null,
   "metadata": {},
   "outputs": [],
   "source": []
  },
  {
   "cell_type": "code",
   "execution_count": null,
   "metadata": {},
   "outputs": [],
   "source": [
    "spark.stop()"
   ]
  },
  {
   "cell_type": "code",
   "execution_count": null,
   "metadata": {},
   "outputs": [],
   "source": []
  },
  {
   "cell_type": "code",
   "execution_count": null,
   "metadata": {},
   "outputs": [],
   "source": []
  }
 ],
 "metadata": {
  "kernelspec": {
   "display_name": "Python 3",
   "language": "python",
   "name": "python3"
  },
  "language_info": {
   "codemirror_mode": {
    "name": "ipython",
    "version": 3
   },
   "file_extension": ".py",
   "mimetype": "text/x-python",
   "name": "python",
   "nbconvert_exporter": "python",
   "pygments_lexer": "ipython3",
   "version": "3.5.3"
  }
 },
 "nbformat": 4,
 "nbformat_minor": 2
}
