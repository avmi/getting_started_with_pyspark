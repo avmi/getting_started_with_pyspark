{
 "cells": [
  {
   "cell_type": "code",
   "execution_count": 2,
   "metadata": {},
   "outputs": [],
   "source": [
    "# pandas and plotting libraries for visualizations\n",
    "import pandas as pd\n",
    "import matplotlib.pyplot as plt\n",
    "import seaborn as sns\n",
    "\n",
    "# module containing functions for manipulating pyspark dataframes\n",
    "import pyspark.sql.functions as f\n",
    "\n",
    "# class which will let us create spark objects\n",
    "from pyspark.sql import SparkSession\n",
    "\n",
    "# helper functions for intro class\n",
    "from helpers import display, read_df"
   ]
  },
  {
   "cell_type": "markdown",
   "metadata": {},
   "source": [
    "## [PySpark SQL docs](https://spark.apache.org/docs/latest/api/python/pyspark.sql.html)\n",
    " - the main functions you'll need to manipulate data in pyspark dataframes are in this module\n",
    "\n",
    "## [Data Dictionary](https://digital.cityofchicago.org/index.php/chicago-taxi-data-released/)\n",
    " - details about the dataset used, here filtered down to just 2016 data"
   ]
  },
  {
   "cell_type": "markdown",
   "metadata": {},
   "source": [
    "## Create a Spark Session"
   ]
  },
  {
   "cell_type": "code",
   "execution_count": 3,
   "metadata": {},
   "outputs": [],
   "source": [
    "spark = (\n",
    "    SparkSession\n",
    "    .builder\n",
    "    .appName('data_exploration')\n",
    "    .master('local[2]')\n",
    "    .getOrCreate()\n",
    ")"
   ]
  },
  {
   "cell_type": "markdown",
   "metadata": {},
   "source": [
    "## Read in data file"
   ]
  },
  {
   "cell_type": "code",
   "execution_count": 4,
   "metadata": {},
   "outputs": [],
   "source": [
    "df = read_df(spark, '../taxi_2016')"
   ]
  },
  {
   "cell_type": "code",
   "execution_count": 5,
   "metadata": {},
   "outputs": [
    {
     "data": {
      "text/html": [
       "<div>\n",
       "<style scoped>\n",
       "    .dataframe tbody tr th:only-of-type {\n",
       "        vertical-align: middle;\n",
       "    }\n",
       "\n",
       "    .dataframe tbody tr th {\n",
       "        vertical-align: top;\n",
       "    }\n",
       "\n",
       "    .dataframe thead th {\n",
       "        text-align: right;\n",
       "    }\n",
       "</style>\n",
       "<table border=\"1\" class=\"dataframe\">\n",
       "  <thead>\n",
       "    <tr style=\"text-align: right;\">\n",
       "      <th></th>\n",
       "      <th>trip_id</th>\n",
       "      <th>taxi_id</th>\n",
       "      <th>start_time</th>\n",
       "      <th>end_time</th>\n",
       "      <th>trip_miles</th>\n",
       "      <th>pickup_census_tract</th>\n",
       "      <th>dropoff_census_tract</th>\n",
       "      <th>fare</th>\n",
       "      <th>tips</th>\n",
       "      <th>trip_total</th>\n",
       "      <th>payment_type</th>\n",
       "      <th>company</th>\n",
       "    </tr>\n",
       "  </thead>\n",
       "  <tbody>\n",
       "    <tr>\n",
       "      <th>0</th>\n",
       "      <td>2d4585c3a01188a7032e7bea0f2ac686a869832c</td>\n",
       "      <td>fe33d0d63aa20b97b9d4440ad1b6637ea21a0df546aa0d...</td>\n",
       "      <td>2016-12-17 23:30:00</td>\n",
       "      <td>2016-12-17 23:30:00</td>\n",
       "      <td>0.8</td>\n",
       "      <td>1.703128e+10</td>\n",
       "      <td>1.703183e+10</td>\n",
       "      <td>5.50</td>\n",
       "      <td>1.00</td>\n",
       "      <td>7.00</td>\n",
       "      <td>Credit Card</td>\n",
       "      <td>None</td>\n",
       "    </tr>\n",
       "    <tr>\n",
       "      <th>1</th>\n",
       "      <td>2d458675ac892b200cb039fbbe845e2e90c1131c</td>\n",
       "      <td>c12e0923159de80ee3288c44047308ab8f602fbfb2278f...</td>\n",
       "      <td>2016-02-20 02:30:00</td>\n",
       "      <td>2016-02-20 02:30:00</td>\n",
       "      <td>2.6</td>\n",
       "      <td>1.703108e+10</td>\n",
       "      <td>1.703124e+10</td>\n",
       "      <td>9.75</td>\n",
       "      <td>2.15</td>\n",
       "      <td>12.90</td>\n",
       "      <td>Credit Card</td>\n",
       "      <td>Choice Taxi Association</td>\n",
       "    </tr>\n",
       "    <tr>\n",
       "      <th>2</th>\n",
       "      <td>2d4587774ae4ef68c78e7f328c6b0a12873a50db</td>\n",
       "      <td>0083fcde0fb490b4ec424c63d1d750378f6ad11154d1d4...</td>\n",
       "      <td>2016-02-11 07:15:00</td>\n",
       "      <td>2016-02-11 07:45:00</td>\n",
       "      <td>0.8</td>\n",
       "      <td>NaN</td>\n",
       "      <td>NaN</td>\n",
       "      <td>39.50</td>\n",
       "      <td>0.00</td>\n",
       "      <td>39.50</td>\n",
       "      <td>Cash</td>\n",
       "      <td>Taxi Affiliation Services</td>\n",
       "    </tr>\n",
       "    <tr>\n",
       "      <th>3</th>\n",
       "      <td>2d458989ecc7bd5aa9f8657c4bbe430347ab5189</td>\n",
       "      <td>874b25eb25690a1a0361023234f59edeee52101733a1ab...</td>\n",
       "      <td>2016-08-17 18:45:00</td>\n",
       "      <td>2016-08-17 19:00:00</td>\n",
       "      <td>1.8</td>\n",
       "      <td>1.703108e+10</td>\n",
       "      <td>1.703183e+10</td>\n",
       "      <td>10.25</td>\n",
       "      <td>2.00</td>\n",
       "      <td>12.75</td>\n",
       "      <td>Credit Card</td>\n",
       "      <td>None</td>\n",
       "    </tr>\n",
       "    <tr>\n",
       "      <th>4</th>\n",
       "      <td>2d458a76dea4503ee43e5f6f41166a219eacb7ce</td>\n",
       "      <td>45772661016b0b77e44155eaf32f92d2f4e9e2702c0fc3...</td>\n",
       "      <td>2016-07-15 00:15:00</td>\n",
       "      <td>2016-07-15 00:30:00</td>\n",
       "      <td>5.1</td>\n",
       "      <td>NaN</td>\n",
       "      <td>NaN</td>\n",
       "      <td>16.50</td>\n",
       "      <td>3.00</td>\n",
       "      <td>21.00</td>\n",
       "      <td>Credit Card</td>\n",
       "      <td>Dispatch Taxi Affiliation</td>\n",
       "    </tr>\n",
       "  </tbody>\n",
       "</table>\n",
       "</div>"
      ],
      "text/plain": [
       "                                    trip_id  \\\n",
       "0  2d4585c3a01188a7032e7bea0f2ac686a869832c   \n",
       "1  2d458675ac892b200cb039fbbe845e2e90c1131c   \n",
       "2  2d4587774ae4ef68c78e7f328c6b0a12873a50db   \n",
       "3  2d458989ecc7bd5aa9f8657c4bbe430347ab5189   \n",
       "4  2d458a76dea4503ee43e5f6f41166a219eacb7ce   \n",
       "\n",
       "                                             taxi_id          start_time  \\\n",
       "0  fe33d0d63aa20b97b9d4440ad1b6637ea21a0df546aa0d... 2016-12-17 23:30:00   \n",
       "1  c12e0923159de80ee3288c44047308ab8f602fbfb2278f... 2016-02-20 02:30:00   \n",
       "2  0083fcde0fb490b4ec424c63d1d750378f6ad11154d1d4... 2016-02-11 07:15:00   \n",
       "3  874b25eb25690a1a0361023234f59edeee52101733a1ab... 2016-08-17 18:45:00   \n",
       "4  45772661016b0b77e44155eaf32f92d2f4e9e2702c0fc3... 2016-07-15 00:15:00   \n",
       "\n",
       "             end_time  trip_miles  pickup_census_tract  dropoff_census_tract  \\\n",
       "0 2016-12-17 23:30:00         0.8         1.703128e+10          1.703183e+10   \n",
       "1 2016-02-20 02:30:00         2.6         1.703108e+10          1.703124e+10   \n",
       "2 2016-02-11 07:45:00         0.8                  NaN                   NaN   \n",
       "3 2016-08-17 19:00:00         1.8         1.703108e+10          1.703183e+10   \n",
       "4 2016-07-15 00:30:00         5.1                  NaN                   NaN   \n",
       "\n",
       "    fare  tips  trip_total payment_type                    company  \n",
       "0   5.50  1.00        7.00  Credit Card                       None  \n",
       "1   9.75  2.15       12.90  Credit Card    Choice Taxi Association  \n",
       "2  39.50  0.00       39.50         Cash  Taxi Affiliation Services  \n",
       "3  10.25  2.00       12.75  Credit Card                       None  \n",
       "4  16.50  3.00       21.00  Credit Card  Dispatch Taxi Affiliation  "
      ]
     },
     "execution_count": 5,
     "metadata": {},
     "output_type": "execute_result"
    }
   ],
   "source": [
    "display(df)"
   ]
  },
  {
   "cell_type": "code",
   "execution_count": 6,
   "metadata": {},
   "outputs": [
    {
     "data": {
      "text/plain": [
       "['trip_id',\n",
       " 'taxi_id',\n",
       " 'start_time',\n",
       " 'end_time',\n",
       " 'trip_miles',\n",
       " 'pickup_census_tract',\n",
       " 'dropoff_census_tract',\n",
       " 'fare',\n",
       " 'tips',\n",
       " 'trip_total',\n",
       " 'payment_type',\n",
       " 'company']"
      ]
     },
     "execution_count": 6,
     "metadata": {},
     "output_type": "execute_result"
    }
   ],
   "source": [
    "df.columns"
   ]
  },
  {
   "cell_type": "code",
   "execution_count": null,
   "metadata": {},
   "outputs": [],
   "source": []
  },
  {
   "cell_type": "code",
   "execution_count": null,
   "metadata": {},
   "outputs": [],
   "source": [
    "display(df, 10)"
   ]
  },
  {
   "cell_type": "code",
   "execution_count": null,
   "metadata": {},
   "outputs": [],
   "source": [
    "total_rows = df.count() # ~3 million trips\n",
    "print(total_rows)"
   ]
  },
  {
   "cell_type": "code",
   "execution_count": null,
   "metadata": {},
   "outputs": [],
   "source": [
    "display(df.agg(f.countDistinct('taxi_id')))"
   ]
  },
  {
   "cell_type": "code",
   "execution_count": null,
   "metadata": {},
   "outputs": [],
   "source": [
    "display(df.agg((f.sum('trip_miles')/total_rows).alias('trip_miles')))"
   ]
  },
  {
   "cell_type": "code",
   "execution_count": null,
   "metadata": {},
   "outputs": [],
   "source": [
    "display(df.agg(*[(f.count(c)/total_rows).alias(c) for c in df.columns]))"
   ]
  },
  {
   "cell_type": "code",
   "execution_count": null,
   "metadata": {},
   "outputs": [],
   "source": []
  },
  {
   "cell_type": "code",
   "execution_count": null,
   "metadata": {},
   "outputs": [],
   "source": [
    "trips_per_taxi = df.groupBy('taxi_id').count()"
   ]
  },
  {
   "cell_type": "code",
   "execution_count": null,
   "metadata": {},
   "outputs": [],
   "source": [
    "display(trips_per_taxi, 10)"
   ]
  },
  {
   "cell_type": "code",
   "execution_count": null,
   "metadata": {},
   "outputs": [],
   "source": [
    "plt.figure()\n",
    "sns.distplot(trips_per_taxi.select('count').toPandas()).set_title('Trips Per Taxi');"
   ]
  },
  {
   "cell_type": "code",
   "execution_count": null,
   "metadata": {},
   "outputs": [],
   "source": [
    "distance_traveled_per_taxi = (\n",
    "    df\n",
    "    .groupBy('taxi_id')\n",
    "    .agg(f.sum('trip_miles').alias('miles'))\n",
    ")"
   ]
  },
  {
   "cell_type": "code",
   "execution_count": null,
   "metadata": {},
   "outputs": [],
   "source": [
    "display(distance_traveled_per_taxi, 10)"
   ]
  },
  {
   "cell_type": "code",
   "execution_count": null,
   "metadata": {},
   "outputs": [],
   "source": [
    "plt.figure()\n",
    "(\n",
    "    sns\n",
    "    .distplot(distance_traveled_per_taxi.select('miles').toPandas())\n",
    "    .set_title('Miles Traveled Per Taxi')\n",
    ");"
   ]
  },
  {
   "cell_type": "code",
   "execution_count": null,
   "metadata": {},
   "outputs": [],
   "source": [
    "plt.figure()\n",
    "(\n",
    "    sns\n",
    "    .distplot(distance_traveled_per_taxi.where('miles < 1000').select('miles').toPandas())\n",
    "    .set_title('Miles Traveled Per Taxi (capped at 1000)')\n",
    ");"
   ]
  },
  {
   "cell_type": "code",
   "execution_count": null,
   "metadata": {},
   "outputs": [],
   "source": [
    "display(distance_traveled_per_taxi.orderBy(f.desc('miles')), 10)"
   ]
  },
  {
   "cell_type": "markdown",
   "metadata": {},
   "source": [
    "## Exercises"
   ]
  },
  {
   "cell_type": "code",
   "execution_count": null,
   "metadata": {},
   "outputs": [],
   "source": [
    "# when do most trips occur? "
   ]
  },
  {
   "cell_type": "code",
   "execution_count": null,
   "metadata": {},
   "outputs": [],
   "source": []
  },
  {
   "cell_type": "code",
   "execution_count": null,
   "metadata": {},
   "outputs": [],
   "source": [
    "# what's the most common length for a trip in miles? in minutes?"
   ]
  },
  {
   "cell_type": "code",
   "execution_count": null,
   "metadata": {},
   "outputs": [],
   "source": []
  },
  {
   "cell_type": "code",
   "execution_count": null,
   "metadata": {},
   "outputs": [],
   "source": [
    "# are there companies that only use cash or only use credit?"
   ]
  },
  {
   "cell_type": "code",
   "execution_count": null,
   "metadata": {},
   "outputs": [],
   "source": []
  },
  {
   "cell_type": "code",
   "execution_count": null,
   "metadata": {},
   "outputs": [],
   "source": [
    "spark.stop()"
   ]
  }
 ],
 "metadata": {
  "kernelspec": {
   "display_name": "Python 3",
   "language": "python",
   "name": "python3"
  },
  "language_info": {
   "codemirror_mode": {
    "name": "ipython",
    "version": 3
   },
   "file_extension": ".py",
   "mimetype": "text/x-python",
   "name": "python",
   "nbconvert_exporter": "python",
   "pygments_lexer": "ipython3",
   "version": "3.5.3"
  }
 },
 "nbformat": 4,
 "nbformat_minor": 2
}
