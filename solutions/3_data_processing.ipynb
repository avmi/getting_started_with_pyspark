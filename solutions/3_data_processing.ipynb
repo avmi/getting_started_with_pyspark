{
 "cells": [
  {
   "cell_type": "code",
   "execution_count": 1,
   "metadata": {},
   "outputs": [],
   "source": [
    "from datetime import datetime, timedelta\n",
    "import uuid\n",
    "import holidays\n",
    "\n",
    "# pandas and plotting libraries for visualizations\n",
    "import pandas as pd\n",
    "import matplotlib.pyplot as plt\n",
    "import seaborn as sns\n",
    "\n",
    "# module containing functions for manipulation pyspark dataframes\n",
    "import pyspark.sql.functions as f\n",
    "import pyspark.sql.types as t\n",
    "from pyspark.sql.window import Window\n",
    "\n",
    "# class which will let us create spark objects\n",
    "from pyspark.sql import SparkSession\n",
    "\n",
    "# helper functions for the class\n",
    "from helpers import display, read_df, write_df"
   ]
  },
  {
   "cell_type": "markdown",
   "metadata": {},
   "source": [
    "## [PySpark SQL docs](https://spark.apache.org/docs/latest/api/python/pyspark.sql.html)"
   ]
  },
  {
   "cell_type": "markdown",
   "metadata": {},
   "source": [
    "## Create a Spark Session"
   ]
  },
  {
   "cell_type": "code",
   "execution_count": 2,
   "metadata": {},
   "outputs": [],
   "source": [
    "spark = (\n",
    "    SparkSession\n",
    "    .builder\n",
    "    .appName('data_processing')\n",
    "    .master('local[2]')\n",
    "    .getOrCreate()\n",
    ")"
   ]
  },
  {
   "cell_type": "markdown",
   "metadata": {},
   "source": [
    "## Read in data file"
   ]
  },
  {
   "cell_type": "code",
   "execution_count": 3,
   "metadata": {},
   "outputs": [],
   "source": [
    "df = read_df(spark, '../taxi_2016')"
   ]
  },
  {
   "cell_type": "code",
   "execution_count": 4,
   "metadata": {},
   "outputs": [
    {
     "data": {
      "text/plain": [
       "['trip_id',\n",
       " 'taxi_id',\n",
       " 'start_time',\n",
       " 'end_time',\n",
       " 'trip_miles',\n",
       " 'pickup_census_tract',\n",
       " 'dropoff_census_tract',\n",
       " 'fare',\n",
       " 'tips',\n",
       " 'trip_total',\n",
       " 'payment_type',\n",
       " 'company']"
      ]
     },
     "execution_count": 4,
     "metadata": {},
     "output_type": "execute_result"
    }
   ],
   "source": [
    "df.columns"
   ]
  },
  {
   "cell_type": "markdown",
   "metadata": {},
   "source": [
    "let's take a smaller sample so we can iterate faster"
   ]
  },
  {
   "cell_type": "code",
   "execution_count": 5,
   "metadata": {},
   "outputs": [],
   "source": [
    "#df = df.sample(fraction=.1)"
   ]
  },
  {
   "cell_type": "code",
   "execution_count": 6,
   "metadata": {},
   "outputs": [],
   "source": [
    "# only have tip data for credit card transactions\n",
    "tips = df.where(f.col('payment_type') == 'Credit Card')"
   ]
  },
  {
   "cell_type": "markdown",
   "metadata": {},
   "source": [
    "# Features"
   ]
  },
  {
   "cell_type": "markdown",
   "metadata": {},
   "source": [
    "### Columns we get for free"
   ]
  },
  {
   "cell_type": "code",
   "execution_count": 7,
   "metadata": {},
   "outputs": [
    {
     "data": {
      "text/html": [
       "<div>\n",
       "<style scoped>\n",
       "    .dataframe tbody tr th:only-of-type {\n",
       "        vertical-align: middle;\n",
       "    }\n",
       "\n",
       "    .dataframe tbody tr th {\n",
       "        vertical-align: top;\n",
       "    }\n",
       "\n",
       "    .dataframe thead th {\n",
       "        text-align: right;\n",
       "    }\n",
       "</style>\n",
       "<table border=\"1\" class=\"dataframe\">\n",
       "  <thead>\n",
       "    <tr style=\"text-align: right;\">\n",
       "      <th></th>\n",
       "      <th>trip_id</th>\n",
       "      <th>company</th>\n",
       "      <th>trip_miles</th>\n",
       "      <th>fare</th>\n",
       "    </tr>\n",
       "  </thead>\n",
       "  <tbody>\n",
       "    <tr>\n",
       "      <th>0</th>\n",
       "      <td>2d4585c3a01188a7032e7bea0f2ac686a869832c</td>\n",
       "      <td>None</td>\n",
       "      <td>0.8</td>\n",
       "      <td>5.50</td>\n",
       "    </tr>\n",
       "    <tr>\n",
       "      <th>1</th>\n",
       "      <td>2d458675ac892b200cb039fbbe845e2e90c1131c</td>\n",
       "      <td>Choice Taxi Association</td>\n",
       "      <td>2.6</td>\n",
       "      <td>9.75</td>\n",
       "    </tr>\n",
       "    <tr>\n",
       "      <th>2</th>\n",
       "      <td>2d458989ecc7bd5aa9f8657c4bbe430347ab5189</td>\n",
       "      <td>None</td>\n",
       "      <td>1.8</td>\n",
       "      <td>10.25</td>\n",
       "    </tr>\n",
       "    <tr>\n",
       "      <th>3</th>\n",
       "      <td>2d458a76dea4503ee43e5f6f41166a219eacb7ce</td>\n",
       "      <td>Dispatch Taxi Affiliation</td>\n",
       "      <td>5.1</td>\n",
       "      <td>16.50</td>\n",
       "    </tr>\n",
       "    <tr>\n",
       "      <th>4</th>\n",
       "      <td>2d458ce051e1c3df37cbc558f5b6d2b08124f759</td>\n",
       "      <td>Choice Taxi Association</td>\n",
       "      <td>0.9</td>\n",
       "      <td>5.25</td>\n",
       "    </tr>\n",
       "  </tbody>\n",
       "</table>\n",
       "</div>"
      ],
      "text/plain": [
       "                                    trip_id                    company  \\\n",
       "0  2d4585c3a01188a7032e7bea0f2ac686a869832c                       None   \n",
       "1  2d458675ac892b200cb039fbbe845e2e90c1131c    Choice Taxi Association   \n",
       "2  2d458989ecc7bd5aa9f8657c4bbe430347ab5189                       None   \n",
       "3  2d458a76dea4503ee43e5f6f41166a219eacb7ce  Dispatch Taxi Affiliation   \n",
       "4  2d458ce051e1c3df37cbc558f5b6d2b08124f759    Choice Taxi Association   \n",
       "\n",
       "   trip_miles   fare  \n",
       "0         0.8   5.50  \n",
       "1         2.6   9.75  \n",
       "2         1.8  10.25  \n",
       "3         5.1  16.50  \n",
       "4         0.9   5.25  "
      ]
     },
     "execution_count": 7,
     "metadata": {},
     "output_type": "execute_result"
    }
   ],
   "source": [
    "display(\n",
    "    tips.select(\n",
    "        'trip_id',\n",
    "        'company',\n",
    "        'trip_miles',\n",
    "        'fare',\n",
    "    )\n",
    ")"
   ]
  },
  {
   "cell_type": "markdown",
   "metadata": {},
   "source": [
    "### Time based features"
   ]
  },
  {
   "cell_type": "code",
   "execution_count": 8,
   "metadata": {},
   "outputs": [
    {
     "data": {
      "text/html": [
       "<div>\n",
       "<style scoped>\n",
       "    .dataframe tbody tr th:only-of-type {\n",
       "        vertical-align: middle;\n",
       "    }\n",
       "\n",
       "    .dataframe tbody tr th {\n",
       "        vertical-align: top;\n",
       "    }\n",
       "\n",
       "    .dataframe thead th {\n",
       "        text-align: right;\n",
       "    }\n",
       "</style>\n",
       "<table border=\"1\" class=\"dataframe\">\n",
       "  <thead>\n",
       "    <tr style=\"text-align: right;\">\n",
       "      <th></th>\n",
       "      <th>start_time</th>\n",
       "      <th>end_time</th>\n",
       "      <th>start_month</th>\n",
       "      <th>start_day_of_week</th>\n",
       "      <th>start_hour</th>\n",
       "    </tr>\n",
       "  </thead>\n",
       "  <tbody>\n",
       "    <tr>\n",
       "      <th>0</th>\n",
       "      <td>2016-12-17 23:30:00</td>\n",
       "      <td>2016-12-17 23:30:00</td>\n",
       "      <td>12</td>\n",
       "      <td>7</td>\n",
       "      <td>23</td>\n",
       "    </tr>\n",
       "    <tr>\n",
       "      <th>1</th>\n",
       "      <td>2016-02-20 02:30:00</td>\n",
       "      <td>2016-02-20 02:30:00</td>\n",
       "      <td>2</td>\n",
       "      <td>7</td>\n",
       "      <td>2</td>\n",
       "    </tr>\n",
       "    <tr>\n",
       "      <th>2</th>\n",
       "      <td>2016-08-17 18:45:00</td>\n",
       "      <td>2016-08-17 19:00:00</td>\n",
       "      <td>8</td>\n",
       "      <td>4</td>\n",
       "      <td>18</td>\n",
       "    </tr>\n",
       "    <tr>\n",
       "      <th>3</th>\n",
       "      <td>2016-07-15 00:15:00</td>\n",
       "      <td>2016-07-15 00:30:00</td>\n",
       "      <td>7</td>\n",
       "      <td>6</td>\n",
       "      <td>0</td>\n",
       "    </tr>\n",
       "    <tr>\n",
       "      <th>4</th>\n",
       "      <td>2016-02-01 14:15:00</td>\n",
       "      <td>2016-02-01 14:30:00</td>\n",
       "      <td>2</td>\n",
       "      <td>2</td>\n",
       "      <td>14</td>\n",
       "    </tr>\n",
       "  </tbody>\n",
       "</table>\n",
       "</div>"
      ],
      "text/plain": [
       "           start_time            end_time  start_month  start_day_of_week  \\\n",
       "0 2016-12-17 23:30:00 2016-12-17 23:30:00           12                  7   \n",
       "1 2016-02-20 02:30:00 2016-02-20 02:30:00            2                  7   \n",
       "2 2016-08-17 18:45:00 2016-08-17 19:00:00            8                  4   \n",
       "3 2016-07-15 00:15:00 2016-07-15 00:30:00            7                  6   \n",
       "4 2016-02-01 14:15:00 2016-02-01 14:30:00            2                  2   \n",
       "\n",
       "   start_hour  \n",
       "0          23  \n",
       "1           2  \n",
       "2          18  \n",
       "3           0  \n",
       "4          14  "
      ]
     },
     "execution_count": 8,
     "metadata": {},
     "output_type": "execute_result"
    }
   ],
   "source": [
    "display(\n",
    "    tips.select(\n",
    "        'start_time',\n",
    "        'end_time',\n",
    "        f.month('start_time').alias('start_month'),\n",
    "        f.dayofweek('start_time').alias('start_day_of_week'),\n",
    "        f.hour('start_time').alias('start_hour'),\n",
    "    )\n",
    ")"
   ]
  },
  {
   "cell_type": "code",
   "execution_count": 9,
   "metadata": {},
   "outputs": [
    {
     "data": {
      "text/html": [
       "<div>\n",
       "<style scoped>\n",
       "    .dataframe tbody tr th:only-of-type {\n",
       "        vertical-align: middle;\n",
       "    }\n",
       "\n",
       "    .dataframe tbody tr th {\n",
       "        vertical-align: top;\n",
       "    }\n",
       "\n",
       "    .dataframe thead th {\n",
       "        text-align: right;\n",
       "    }\n",
       "</style>\n",
       "<table border=\"1\" class=\"dataframe\">\n",
       "  <thead>\n",
       "    <tr style=\"text-align: right;\">\n",
       "      <th></th>\n",
       "      <th>start_time</th>\n",
       "      <th>end_time</th>\n",
       "      <th>trip_minutes</th>\n",
       "    </tr>\n",
       "  </thead>\n",
       "  <tbody>\n",
       "    <tr>\n",
       "      <th>0</th>\n",
       "      <td>2016-12-17 23:30:00</td>\n",
       "      <td>2016-12-17 23:30:00</td>\n",
       "      <td>0.0</td>\n",
       "    </tr>\n",
       "    <tr>\n",
       "      <th>1</th>\n",
       "      <td>2016-02-20 02:30:00</td>\n",
       "      <td>2016-02-20 02:30:00</td>\n",
       "      <td>0.0</td>\n",
       "    </tr>\n",
       "    <tr>\n",
       "      <th>2</th>\n",
       "      <td>2016-08-17 18:45:00</td>\n",
       "      <td>2016-08-17 19:00:00</td>\n",
       "      <td>15.0</td>\n",
       "    </tr>\n",
       "    <tr>\n",
       "      <th>3</th>\n",
       "      <td>2016-07-15 00:15:00</td>\n",
       "      <td>2016-07-15 00:30:00</td>\n",
       "      <td>15.0</td>\n",
       "    </tr>\n",
       "    <tr>\n",
       "      <th>4</th>\n",
       "      <td>2016-02-01 14:15:00</td>\n",
       "      <td>2016-02-01 14:30:00</td>\n",
       "      <td>15.0</td>\n",
       "    </tr>\n",
       "  </tbody>\n",
       "</table>\n",
       "</div>"
      ],
      "text/plain": [
       "           start_time            end_time  trip_minutes\n",
       "0 2016-12-17 23:30:00 2016-12-17 23:30:00           0.0\n",
       "1 2016-02-20 02:30:00 2016-02-20 02:30:00           0.0\n",
       "2 2016-08-17 18:45:00 2016-08-17 19:00:00          15.0\n",
       "3 2016-07-15 00:15:00 2016-07-15 00:30:00          15.0\n",
       "4 2016-02-01 14:15:00 2016-02-01 14:30:00          15.0"
      ]
     },
     "execution_count": 9,
     "metadata": {},
     "output_type": "execute_result"
    }
   ],
   "source": [
    "display(\n",
    "    tips\n",
    "    .withColumn(\n",
    "        'trip_minutes',\n",
    "        (f.unix_timestamp(f.col('end_time')) - f.unix_timestamp(f.col('start_time')))/60,\n",
    "    )\n",
    "    .select('start_time', 'end_time', 'trip_minutes')\n",
    ")"
   ]
  },
  {
   "cell_type": "markdown",
   "metadata": {},
   "source": [
    "### Location based feature"
   ]
  },
  {
   "cell_type": "code",
   "execution_count": 10,
   "metadata": {},
   "outputs": [
    {
     "data": {
      "text/html": [
       "<div>\n",
       "<style scoped>\n",
       "    .dataframe tbody tr th:only-of-type {\n",
       "        vertical-align: middle;\n",
       "    }\n",
       "\n",
       "    .dataframe tbody tr th {\n",
       "        vertical-align: top;\n",
       "    }\n",
       "\n",
       "    .dataframe thead th {\n",
       "        text-align: right;\n",
       "    }\n",
       "</style>\n",
       "<table border=\"1\" class=\"dataframe\">\n",
       "  <thead>\n",
       "    <tr style=\"text-align: right;\">\n",
       "      <th></th>\n",
       "      <th>dropoff_census_tract</th>\n",
       "      <th>avg_miles_by_census_tract</th>\n",
       "    </tr>\n",
       "  </thead>\n",
       "  <tbody>\n",
       "    <tr>\n",
       "      <th>0</th>\n",
       "      <td>17031832600</td>\n",
       "      <td>3.349968</td>\n",
       "    </tr>\n",
       "    <tr>\n",
       "      <th>1</th>\n",
       "      <td>17031837400</td>\n",
       "      <td>2.800000</td>\n",
       "    </tr>\n",
       "    <tr>\n",
       "      <th>2</th>\n",
       "      <td>17031062200</td>\n",
       "      <td>5.407275</td>\n",
       "    </tr>\n",
       "    <tr>\n",
       "      <th>3</th>\n",
       "      <td>17031843200</td>\n",
       "      <td>3.635294</td>\n",
       "    </tr>\n",
       "    <tr>\n",
       "      <th>4</th>\n",
       "      <td>17031806900</td>\n",
       "      <td>9.846667</td>\n",
       "    </tr>\n",
       "    <tr>\n",
       "      <th>5</th>\n",
       "      <td>17031020602</td>\n",
       "      <td>1.618750</td>\n",
       "    </tr>\n",
       "    <tr>\n",
       "      <th>6</th>\n",
       "      <td>17031130200</td>\n",
       "      <td>0.800000</td>\n",
       "    </tr>\n",
       "    <tr>\n",
       "      <th>7</th>\n",
       "      <td>17031241300</td>\n",
       "      <td>3.583516</td>\n",
       "    </tr>\n",
       "    <tr>\n",
       "      <th>8</th>\n",
       "      <td>17031150501</td>\n",
       "      <td>1.400000</td>\n",
       "    </tr>\n",
       "    <tr>\n",
       "      <th>9</th>\n",
       "      <td>17031838000</td>\n",
       "      <td>3.928857</td>\n",
       "    </tr>\n",
       "  </tbody>\n",
       "</table>\n",
       "</div>"
      ],
      "text/plain": [
       "   dropoff_census_tract  avg_miles_by_census_tract\n",
       "0           17031832600                   3.349968\n",
       "1           17031837400                   2.800000\n",
       "2           17031062200                   5.407275\n",
       "3           17031843200                   3.635294\n",
       "4           17031806900                   9.846667\n",
       "5           17031020602                   1.618750\n",
       "6           17031130200                   0.800000\n",
       "7           17031241300                   3.583516\n",
       "8           17031150501                   1.400000\n",
       "9           17031838000                   3.928857"
      ]
     },
     "execution_count": 10,
     "metadata": {},
     "output_type": "execute_result"
    }
   ],
   "source": [
    "avg_miles_by_census_tract = (\n",
    "    tips\n",
    "    .groupby('dropoff_census_tract')\n",
    "    .agg(f.avg(f.col('trip_miles')).alias('avg_miles_by_census_tract'))\n",
    ")\n",
    "\n",
    "display(avg_miles_by_census_tract, 10)"
   ]
  },
  {
   "cell_type": "code",
   "execution_count": 11,
   "metadata": {},
   "outputs": [
    {
     "data": {
      "text/html": [
       "<div>\n",
       "<style scoped>\n",
       "    .dataframe tbody tr th:only-of-type {\n",
       "        vertical-align: middle;\n",
       "    }\n",
       "\n",
       "    .dataframe tbody tr th {\n",
       "        vertical-align: top;\n",
       "    }\n",
       "\n",
       "    .dataframe thead th {\n",
       "        text-align: right;\n",
       "    }\n",
       "</style>\n",
       "<table border=\"1\" class=\"dataframe\">\n",
       "  <thead>\n",
       "    <tr style=\"text-align: right;\">\n",
       "      <th></th>\n",
       "      <th>pickup_census_tract</th>\n",
       "      <th>dropoff_census_tract</th>\n",
       "      <th>avg_miles_by_census_tract</th>\n",
       "    </tr>\n",
       "  </thead>\n",
       "  <tbody>\n",
       "    <tr>\n",
       "      <th>0</th>\n",
       "      <td>17031839100</td>\n",
       "      <td>17031832600</td>\n",
       "      <td>3.349968</td>\n",
       "    </tr>\n",
       "    <tr>\n",
       "      <th>1</th>\n",
       "      <td>17031081800</td>\n",
       "      <td>17031832600</td>\n",
       "      <td>3.349968</td>\n",
       "    </tr>\n",
       "    <tr>\n",
       "      <th>2</th>\n",
       "      <td>17031081800</td>\n",
       "      <td>17031832600</td>\n",
       "      <td>3.349968</td>\n",
       "    </tr>\n",
       "    <tr>\n",
       "      <th>3</th>\n",
       "      <td>17031081600</td>\n",
       "      <td>17031832600</td>\n",
       "      <td>3.349968</td>\n",
       "    </tr>\n",
       "    <tr>\n",
       "      <th>4</th>\n",
       "      <td>17031980000</td>\n",
       "      <td>17031832600</td>\n",
       "      <td>3.349968</td>\n",
       "    </tr>\n",
       "  </tbody>\n",
       "</table>\n",
       "</div>"
      ],
      "text/plain": [
       "   pickup_census_tract  dropoff_census_tract  avg_miles_by_census_tract\n",
       "0          17031839100           17031832600                   3.349968\n",
       "1          17031081800           17031832600                   3.349968\n",
       "2          17031081800           17031832600                   3.349968\n",
       "3          17031081600           17031832600                   3.349968\n",
       "4          17031980000           17031832600                   3.349968"
      ]
     },
     "execution_count": 11,
     "metadata": {},
     "output_type": "execute_result"
    }
   ],
   "source": [
    "display(\n",
    "    tips\n",
    "    .join(avg_miles_by_census_tract, on='dropoff_census_tract', how='left')\n",
    "    .select('pickup_census_tract', 'dropoff_census_tract', 'avg_miles_by_census_tract')\n",
    ")"
   ]
  },
  {
   "cell_type": "code",
   "execution_count": 12,
   "metadata": {},
   "outputs": [
    {
     "data": {
      "text/html": [
       "<div>\n",
       "<style scoped>\n",
       "    .dataframe tbody tr th:only-of-type {\n",
       "        vertical-align: middle;\n",
       "    }\n",
       "\n",
       "    .dataframe tbody tr th {\n",
       "        vertical-align: top;\n",
       "    }\n",
       "\n",
       "    .dataframe thead th {\n",
       "        text-align: right;\n",
       "    }\n",
       "</style>\n",
       "<table border=\"1\" class=\"dataframe\">\n",
       "  <thead>\n",
       "    <tr style=\"text-align: right;\">\n",
       "      <th></th>\n",
       "      <th>pickup_census_tract</th>\n",
       "      <th>dropoff_census_tract</th>\n",
       "      <th>avg_miles_by_census_tract</th>\n",
       "    </tr>\n",
       "  </thead>\n",
       "  <tbody>\n",
       "    <tr>\n",
       "      <th>0</th>\n",
       "      <td>17031839100</td>\n",
       "      <td>17031832600</td>\n",
       "      <td>3.349968</td>\n",
       "    </tr>\n",
       "    <tr>\n",
       "      <th>1</th>\n",
       "      <td>17031081800</td>\n",
       "      <td>17031832600</td>\n",
       "      <td>3.349968</td>\n",
       "    </tr>\n",
       "    <tr>\n",
       "      <th>2</th>\n",
       "      <td>17031081800</td>\n",
       "      <td>17031832600</td>\n",
       "      <td>3.349968</td>\n",
       "    </tr>\n",
       "    <tr>\n",
       "      <th>3</th>\n",
       "      <td>17031081600</td>\n",
       "      <td>17031832600</td>\n",
       "      <td>3.349968</td>\n",
       "    </tr>\n",
       "    <tr>\n",
       "      <th>4</th>\n",
       "      <td>17031980000</td>\n",
       "      <td>17031832600</td>\n",
       "      <td>3.349968</td>\n",
       "    </tr>\n",
       "  </tbody>\n",
       "</table>\n",
       "</div>"
      ],
      "text/plain": [
       "   pickup_census_tract  dropoff_census_tract  avg_miles_by_census_tract\n",
       "0          17031839100           17031832600                   3.349968\n",
       "1          17031081800           17031832600                   3.349968\n",
       "2          17031081800           17031832600                   3.349968\n",
       "3          17031081600           17031832600                   3.349968\n",
       "4          17031980000           17031832600                   3.349968"
      ]
     },
     "execution_count": 12,
     "metadata": {},
     "output_type": "execute_result"
    }
   ],
   "source": [
    "census_block_window = Window().partitionBy('dropoff_census_tract')\n",
    "\n",
    "display(\n",
    "    tips\n",
    "    .withColumn('avg_miles_by_census_tract', f.avg(f.col('trip_miles')).over(census_block_window))\n",
    "    .select('pickup_census_tract', 'dropoff_census_tract', 'avg_miles_by_census_tract')\n",
    ")"
   ]
  },
  {
   "cell_type": "markdown",
   "metadata": {},
   "source": [
    "## User Defined Functions (UDFs)\n",
    "for sometimes it's helpful to take advandate of other python libraries, and udfs let us do thath"
   ]
  },
  {
   "cell_type": "markdown",
   "metadata": {},
   "source": [
    "### Example python UDF: adding and verifying a uuid column"
   ]
  },
  {
   "cell_type": "code",
   "execution_count": 13,
   "metadata": {},
   "outputs": [
    {
     "data": {
      "text/html": [
       "<div>\n",
       "<style scoped>\n",
       "    .dataframe tbody tr th:only-of-type {\n",
       "        vertical-align: middle;\n",
       "    }\n",
       "\n",
       "    .dataframe tbody tr th {\n",
       "        vertical-align: top;\n",
       "    }\n",
       "\n",
       "    .dataframe thead th {\n",
       "        text-align: right;\n",
       "    }\n",
       "</style>\n",
       "<table border=\"1\" class=\"dataframe\">\n",
       "  <thead>\n",
       "    <tr style=\"text-align: right;\">\n",
       "      <th></th>\n",
       "      <th>trip_uuid</th>\n",
       "    </tr>\n",
       "  </thead>\n",
       "  <tbody>\n",
       "    <tr>\n",
       "      <th>0</th>\n",
       "      <td>48aafcbb-2bcb-40d8-9312-fa92c4121d39</td>\n",
       "    </tr>\n",
       "    <tr>\n",
       "      <th>1</th>\n",
       "      <td>f4b7446b-db22-450b-9cdd-98f2871843d4</td>\n",
       "    </tr>\n",
       "    <tr>\n",
       "      <th>2</th>\n",
       "      <td>9df21b52-8322-48e5-a0a1-7ee3fef38fdf</td>\n",
       "    </tr>\n",
       "    <tr>\n",
       "      <th>3</th>\n",
       "      <td>ef02d43b-bde3-4f77-843f-42d8882a8f02</td>\n",
       "    </tr>\n",
       "    <tr>\n",
       "      <th>4</th>\n",
       "      <td>f10526b2-879f-493d-90b4-cdec82108332</td>\n",
       "    </tr>\n",
       "  </tbody>\n",
       "</table>\n",
       "</div>"
      ],
      "text/plain": [
       "                              trip_uuid\n",
       "0  48aafcbb-2bcb-40d8-9312-fa92c4121d39\n",
       "1  f4b7446b-db22-450b-9cdd-98f2871843d4\n",
       "2  9df21b52-8322-48e5-a0a1-7ee3fef38fdf\n",
       "3  ef02d43b-bde3-4f77-843f-42d8882a8f02\n",
       "4  f10526b2-879f-493d-90b4-cdec82108332"
      ]
     },
     "execution_count": 13,
     "metadata": {},
     "output_type": "execute_result"
    }
   ],
   "source": [
    "create_uuid_udf = f.udf(lambda c: str(uuid.uuid4()), t.StringType())\n",
    "\n",
    "tips = tips.withColumn('trip_uuid', create_uuid_udf(f.col('trip_id')))\n",
    "\n",
    "display(tips.select('trip_uuid'))"
   ]
  },
  {
   "cell_type": "code",
   "execution_count": 14,
   "metadata": {},
   "outputs": [],
   "source": [
    "tips = tips.withColumn(\n",
    "    'trip_uuid',\n",
    "    f.when(f.col('trip_uuid').startswith('a'), f.lit('zzzzzzzzzz')).otherwise(f.col('trip_uuid'))\n",
    ")\n",
    "# tips.cache() # why is this needed ?"
   ]
  },
  {
   "cell_type": "code",
   "execution_count": 15,
   "metadata": {},
   "outputs": [
    {
     "data": {
      "text/html": [
       "<div>\n",
       "<style scoped>\n",
       "    .dataframe tbody tr th:only-of-type {\n",
       "        vertical-align: middle;\n",
       "    }\n",
       "\n",
       "    .dataframe tbody tr th {\n",
       "        vertical-align: top;\n",
       "    }\n",
       "\n",
       "    .dataframe thead th {\n",
       "        text-align: right;\n",
       "    }\n",
       "</style>\n",
       "<table border=\"1\" class=\"dataframe\">\n",
       "  <thead>\n",
       "    <tr style=\"text-align: right;\">\n",
       "      <th></th>\n",
       "      <th>trip_uuid</th>\n",
       "      <th>trip_uuid_check</th>\n",
       "    </tr>\n",
       "  </thead>\n",
       "  <tbody>\n",
       "    <tr>\n",
       "      <th>0</th>\n",
       "      <td>8203b52a-1cfa-45fc-8086-6ef9d5bf6bfa</td>\n",
       "      <td>8203b52a-1cfa-45fc-8086-6ef9d5bf6bfa</td>\n",
       "    </tr>\n",
       "    <tr>\n",
       "      <th>1</th>\n",
       "      <td>fa1f367f-f134-4a33-a7a4-e8e48fb6e4ed</td>\n",
       "      <td>fa1f367f-f134-4a33-a7a4-e8e48fb6e4ed</td>\n",
       "    </tr>\n",
       "    <tr>\n",
       "      <th>2</th>\n",
       "      <td>zzzzzzzzzz</td>\n",
       "      <td>None</td>\n",
       "    </tr>\n",
       "    <tr>\n",
       "      <th>3</th>\n",
       "      <td>5abe1f80-357d-49f0-a68f-f1c79713646d</td>\n",
       "      <td>5abe1f80-357d-49f0-a68f-f1c79713646d</td>\n",
       "    </tr>\n",
       "    <tr>\n",
       "      <th>4</th>\n",
       "      <td>0a340142-af81-4bca-9b59-828990e67c71</td>\n",
       "      <td>0a340142-af81-4bca-9b59-828990e67c71</td>\n",
       "    </tr>\n",
       "  </tbody>\n",
       "</table>\n",
       "</div>"
      ],
      "text/plain": [
       "                              trip_uuid                       trip_uuid_check\n",
       "0  8203b52a-1cfa-45fc-8086-6ef9d5bf6bfa  8203b52a-1cfa-45fc-8086-6ef9d5bf6bfa\n",
       "1  fa1f367f-f134-4a33-a7a4-e8e48fb6e4ed  fa1f367f-f134-4a33-a7a4-e8e48fb6e4ed\n",
       "2                            zzzzzzzzzz                                  None\n",
       "3  5abe1f80-357d-49f0-a68f-f1c79713646d  5abe1f80-357d-49f0-a68f-f1c79713646d\n",
       "4  0a340142-af81-4bca-9b59-828990e67c71  0a340142-af81-4bca-9b59-828990e67c71"
      ]
     },
     "execution_count": 15,
     "metadata": {},
     "output_type": "execute_result"
    }
   ],
   "source": [
    "def check_uuid(x):\n",
    "    \"\"\"Test if the string passed in is a valid UUID - if not, return None\"\"\"\n",
    "    try:\n",
    "        uuid.UUID(x)\n",
    "        return x\n",
    "    except ValueError:\n",
    "        return None\n",
    "\n",
    "\n",
    "check_uuid_udf = f.udf(check_uuid)\n",
    "\n",
    "tips = (\n",
    "    tips\n",
    "    .withColumn('trip_uuid_check', check_uuid_udf(f.col('trip_uuid')))\n",
    ")\n",
    "display(\n",
    "    tips\n",
    "    .where(f.col('trip_uuid_check').isNull())\n",
    "    .select('trip_uuid', 'trip_uuid_check')\n",
    ")"
   ]
  },
  {
   "cell_type": "markdown",
   "metadata": {},
   "source": [
    "### Example pandas (vectorized) UDF: finding holidays"
   ]
  },
  {
   "cell_type": "code",
   "execution_count": 16,
   "metadata": {},
   "outputs": [],
   "source": [
    "from pandas.tseries.holiday import USFederalHolidayCalendar"
   ]
  },
  {
   "cell_type": "code",
   "execution_count": 17,
   "metadata": {},
   "outputs": [],
   "source": [
    "cal = USFederalHolidayCalendar()\n",
    "holiday_list = cal.holidays(start='2016-01-01', end='2017-01-01')"
   ]
  },
  {
   "cell_type": "code",
   "execution_count": 18,
   "metadata": {},
   "outputs": [
    {
     "data": {
      "text/html": [
       "<div>\n",
       "<style scoped>\n",
       "    .dataframe tbody tr th:only-of-type {\n",
       "        vertical-align: middle;\n",
       "    }\n",
       "\n",
       "    .dataframe tbody tr th {\n",
       "        vertical-align: top;\n",
       "    }\n",
       "\n",
       "    .dataframe thead th {\n",
       "        text-align: right;\n",
       "    }\n",
       "</style>\n",
       "<table border=\"1\" class=\"dataframe\">\n",
       "  <thead>\n",
       "    <tr style=\"text-align: right;\">\n",
       "      <th></th>\n",
       "      <th>is_holiday</th>\n",
       "      <th>start_time</th>\n",
       "    </tr>\n",
       "  </thead>\n",
       "  <tbody>\n",
       "    <tr>\n",
       "      <th>0</th>\n",
       "      <td>1</td>\n",
       "      <td>2016-05-30</td>\n",
       "    </tr>\n",
       "    <tr>\n",
       "      <th>1</th>\n",
       "      <td>1</td>\n",
       "      <td>2016-01-01</td>\n",
       "    </tr>\n",
       "    <tr>\n",
       "      <th>2</th>\n",
       "      <td>1</td>\n",
       "      <td>2016-05-30</td>\n",
       "    </tr>\n",
       "    <tr>\n",
       "      <th>3</th>\n",
       "      <td>1</td>\n",
       "      <td>2016-10-10</td>\n",
       "    </tr>\n",
       "    <tr>\n",
       "      <th>4</th>\n",
       "      <td>1</td>\n",
       "      <td>2016-07-04</td>\n",
       "    </tr>\n",
       "  </tbody>\n",
       "</table>\n",
       "</div>"
      ],
      "text/plain": [
       "   is_holiday start_time\n",
       "0           1 2016-05-30\n",
       "1           1 2016-01-01\n",
       "2           1 2016-05-30\n",
       "3           1 2016-10-10\n",
       "4           1 2016-07-04"
      ]
     },
     "execution_count": 18,
     "metadata": {},
     "output_type": "execute_result"
    }
   ],
   "source": [
    "@f.pandas_udf('integer')\n",
    "def holiday_udf(x):\n",
    "    return x.isin(holiday_list)\n",
    "\n",
    "\n",
    "tips = tips.withColumn('is_holiday', holiday_udf(f.col('start_time')))\n",
    "\n",
    "display(tips.select('is_holiday', 'start_time').where('is_holiday = 1'))"
   ]
  },
  {
   "cell_type": "markdown",
   "metadata": {},
   "source": [
    "## Exercises"
   ]
  },
  {
   "cell_type": "markdown",
   "metadata": {},
   "source": [
    "### Can you build a function that takes in a dataframe with the columns found in `taxi_2016` and output features discussed above?"
   ]
  },
  {
   "cell_type": "code",
   "execution_count": 19,
   "metadata": {},
   "outputs": [],
   "source": [
    "def build_features(raw_df):\n",
    "    avg_miles_by_census_tract = (\n",
    "        raw_df\n",
    "        .groupby('dropoff_census_tract')\n",
    "        .agg(f.avg(f.col('trip_miles')).alias('avg_trip_miles_by_dropoff_census_tract'))\n",
    "    )\n",
    "\n",
    "    features = (\n",
    "        raw_df\n",
    "        .where(f.col('tips').isNotNull())\n",
    "        .join(avg_miles_by_census_tract, on='dropoff_census_tract')\n",
    "        .select(\n",
    "            'trip_id',\n",
    "            'company',\n",
    "            'trip_miles',\n",
    "            'fare',\n",
    "            f.month('start_time').alias('start_month'),\n",
    "            f.dayofweek('start_time').alias('start_day_of_week'),\n",
    "            f.hour('start_time').alias('start_hour'),\n",
    "            (f.unix_timestamp(f.col('end_time')) - f.unix_timestamp(f.col('start_time'))).alias('trip_minutes'),\n",
    "            'avg_trip_miles_by_dropoff_census_tract',\n",
    "            f.col('tips').alias('label'),\n",
    "        )\n",
    "    )\n",
    "    \n",
    "    return features"
   ]
  },
  {
   "cell_type": "code",
   "execution_count": 20,
   "metadata": {},
   "outputs": [
    {
     "data": {
      "text/html": [
       "<div>\n",
       "<style scoped>\n",
       "    .dataframe tbody tr th:only-of-type {\n",
       "        vertical-align: middle;\n",
       "    }\n",
       "\n",
       "    .dataframe tbody tr th {\n",
       "        vertical-align: top;\n",
       "    }\n",
       "\n",
       "    .dataframe thead th {\n",
       "        text-align: right;\n",
       "    }\n",
       "</style>\n",
       "<table border=\"1\" class=\"dataframe\">\n",
       "  <thead>\n",
       "    <tr style=\"text-align: right;\">\n",
       "      <th></th>\n",
       "      <th>trip_id</th>\n",
       "      <th>company</th>\n",
       "      <th>trip_miles</th>\n",
       "      <th>fare</th>\n",
       "      <th>start_month</th>\n",
       "      <th>start_day_of_week</th>\n",
       "      <th>start_hour</th>\n",
       "      <th>trip_minutes</th>\n",
       "      <th>avg_trip_miles_by_dropoff_census_tract</th>\n",
       "      <th>label</th>\n",
       "    </tr>\n",
       "  </thead>\n",
       "  <tbody>\n",
       "    <tr>\n",
       "      <th>0</th>\n",
       "      <td>2d495c6e8ee5cad52f64de2844f5bdd9999c29f5</td>\n",
       "      <td>None</td>\n",
       "      <td>3.3</td>\n",
       "      <td>13.25</td>\n",
       "      <td>7</td>\n",
       "      <td>4</td>\n",
       "      <td>18</td>\n",
       "      <td>900</td>\n",
       "      <td>3.349968</td>\n",
       "      <td>2.06</td>\n",
       "    </tr>\n",
       "    <tr>\n",
       "      <th>1</th>\n",
       "      <td>2d4c21df0917fd4c630c704b4d1b501c8aec5e14</td>\n",
       "      <td>None</td>\n",
       "      <td>2.1</td>\n",
       "      <td>9.50</td>\n",
       "      <td>12</td>\n",
       "      <td>6</td>\n",
       "      <td>19</td>\n",
       "      <td>900</td>\n",
       "      <td>3.349968</td>\n",
       "      <td>1.50</td>\n",
       "    </tr>\n",
       "    <tr>\n",
       "      <th>2</th>\n",
       "      <td>2d4fbb3ea94d4ed30fb45c9c7f278ac75b632fff</td>\n",
       "      <td>Taxi Affiliation Services</td>\n",
       "      <td>0.1</td>\n",
       "      <td>12.25</td>\n",
       "      <td>10</td>\n",
       "      <td>4</td>\n",
       "      <td>16</td>\n",
       "      <td>900</td>\n",
       "      <td>3.349968</td>\n",
       "      <td>3.05</td>\n",
       "    </tr>\n",
       "    <tr>\n",
       "      <th>3</th>\n",
       "      <td>2d50340947f1362cdebc258576e8c84423e25f6e</td>\n",
       "      <td>Northwest Management LLC</td>\n",
       "      <td>2.7</td>\n",
       "      <td>10.25</td>\n",
       "      <td>1</td>\n",
       "      <td>5</td>\n",
       "      <td>20</td>\n",
       "      <td>0</td>\n",
       "      <td>3.349968</td>\n",
       "      <td>2.55</td>\n",
       "    </tr>\n",
       "    <tr>\n",
       "      <th>4</th>\n",
       "      <td>2d51c476faa582cfa6a4ff99a1e8c08ac2396a0b</td>\n",
       "      <td>Northwest Management LLC</td>\n",
       "      <td>15.0</td>\n",
       "      <td>43.50</td>\n",
       "      <td>8</td>\n",
       "      <td>6</td>\n",
       "      <td>15</td>\n",
       "      <td>4500</td>\n",
       "      <td>3.349968</td>\n",
       "      <td>14.25</td>\n",
       "    </tr>\n",
       "  </tbody>\n",
       "</table>\n",
       "</div>"
      ],
      "text/plain": [
       "                                    trip_id                    company  \\\n",
       "0  2d495c6e8ee5cad52f64de2844f5bdd9999c29f5                       None   \n",
       "1  2d4c21df0917fd4c630c704b4d1b501c8aec5e14                       None   \n",
       "2  2d4fbb3ea94d4ed30fb45c9c7f278ac75b632fff  Taxi Affiliation Services   \n",
       "3  2d50340947f1362cdebc258576e8c84423e25f6e   Northwest Management LLC   \n",
       "4  2d51c476faa582cfa6a4ff99a1e8c08ac2396a0b   Northwest Management LLC   \n",
       "\n",
       "   trip_miles   fare  start_month  start_day_of_week  start_hour  \\\n",
       "0         3.3  13.25            7                  4          18   \n",
       "1         2.1   9.50           12                  6          19   \n",
       "2         0.1  12.25           10                  4          16   \n",
       "3         2.7  10.25            1                  5          20   \n",
       "4        15.0  43.50            8                  6          15   \n",
       "\n",
       "   trip_minutes  avg_trip_miles_by_dropoff_census_tract  label  \n",
       "0           900                                3.349968   2.06  \n",
       "1           900                                3.349968   1.50  \n",
       "2           900                                3.349968   3.05  \n",
       "3             0                                3.349968   2.55  \n",
       "4          4500                                3.349968  14.25  "
      ]
     },
     "execution_count": 20,
     "metadata": {},
     "output_type": "execute_result"
    }
   ],
   "source": [
    "display(build_features(tips))"
   ]
  },
  {
   "cell_type": "markdown",
   "metadata": {},
   "source": [
    "### What other data points might be useful to predict what tip a given trip would have?\n",
    "### Can you construct a column with that information?\n",
    "\n",
    "Since this prompt is wide open I've not written out a direct solution, but encourage\n",
    "you to play with different options!"
   ]
  },
  {
   "cell_type": "code",
   "execution_count": null,
   "metadata": {},
   "outputs": [],
   "source": []
  },
  {
   "cell_type": "code",
   "execution_count": 21,
   "metadata": {},
   "outputs": [],
   "source": [
    "spark.stop()"
   ]
  },
  {
   "cell_type": "code",
   "execution_count": null,
   "metadata": {},
   "outputs": [],
   "source": []
  },
  {
   "cell_type": "code",
   "execution_count": null,
   "metadata": {},
   "outputs": [],
   "source": []
  },
  {
   "cell_type": "code",
   "execution_count": null,
   "metadata": {},
   "outputs": [],
   "source": []
  }
 ],
 "metadata": {
  "kernelspec": {
   "display_name": "Python 3",
   "language": "python",
   "name": "python3"
  },
  "language_info": {
   "codemirror_mode": {
    "name": "ipython",
    "version": 3
   },
   "file_extension": ".py",
   "mimetype": "text/x-python",
   "name": "python",
   "nbconvert_exporter": "python",
   "pygments_lexer": "ipython3",
   "version": "3.7.3"
  }
 },
 "nbformat": 4,
 "nbformat_minor": 2
}
