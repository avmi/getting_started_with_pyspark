{
 "cells": [
  {
   "cell_type": "code",
   "execution_count": 1,
   "metadata": {},
   "outputs": [],
   "source": [
    "# pandas and plotting libraries for visualizations\n",
    "import pandas as pd\n",
    "import matplotlib.pyplot as plt\n",
    "import seaborn as sns\n",
    "\n",
    "# module containing functions for manipulating pyspark dataframes\n",
    "import pyspark.sql.functions as f\n",
    "\n",
    "# class which will let us create spark objects\n",
    "from pyspark.sql import SparkSession\n",
    "\n",
    "# helper functions for intro class\n",
    "from helpers import display, read_df"
   ]
  },
  {
   "cell_type": "markdown",
   "metadata": {},
   "source": [
    "## [PySpark SQL docs](https://spark.apache.org/docs/latest/api/python/pyspark.sql.html)\n",
    " - the main functions you'll need to manipulate data in pyspark dataframes are in this module\n",
    "\n",
    "## [Data Dictionary](https://digital.cityofchicago.org/index.php/chicago-taxi-data-released/)\n",
    " - details about the dataset used, here filtered down to just 2016 data"
   ]
  },
  {
   "cell_type": "markdown",
   "metadata": {},
   "source": [
    "## Create a Spark Session"
   ]
  },
  {
   "cell_type": "code",
   "execution_count": 2,
   "metadata": {},
   "outputs": [],
   "source": [
    "spark = (\n",
    "    SparkSession\n",
    "    .builder\n",
    "    .appName('data_exploration')\n",
    "    .master('local[2]')\n",
    "    .getOrCreate()\n",
    ")"
   ]
  },
  {
   "cell_type": "markdown",
   "metadata": {},
   "source": [
    "## Read in data file"
   ]
  },
  {
   "cell_type": "code",
   "execution_count": 3,
   "metadata": {},
   "outputs": [],
   "source": [
    "df = read_df(spark, '../taxi_2016')"
   ]
  },
  {
   "cell_type": "code",
   "execution_count": 4,
   "metadata": {},
   "outputs": [
    {
     "data": {
      "text/html": [
       "<div>\n",
       "<style scoped>\n",
       "    .dataframe tbody tr th:only-of-type {\n",
       "        vertical-align: middle;\n",
       "    }\n",
       "\n",
       "    .dataframe tbody tr th {\n",
       "        vertical-align: top;\n",
       "    }\n",
       "\n",
       "    .dataframe thead th {\n",
       "        text-align: right;\n",
       "    }\n",
       "</style>\n",
       "<table border=\"1\" class=\"dataframe\">\n",
       "  <thead>\n",
       "    <tr style=\"text-align: right;\">\n",
       "      <th></th>\n",
       "      <th>trip_id</th>\n",
       "      <th>taxi_id</th>\n",
       "      <th>start_time</th>\n",
       "      <th>end_time</th>\n",
       "      <th>trip_miles</th>\n",
       "      <th>pickup_census_tract</th>\n",
       "      <th>dropoff_census_tract</th>\n",
       "      <th>fare</th>\n",
       "      <th>tips</th>\n",
       "      <th>trip_total</th>\n",
       "      <th>payment_type</th>\n",
       "      <th>company</th>\n",
       "    </tr>\n",
       "  </thead>\n",
       "  <tbody>\n",
       "    <tr>\n",
       "      <th>0</th>\n",
       "      <td>2d4585c3a01188a7032e7bea0f2ac686a869832c</td>\n",
       "      <td>fe33d0d63aa20b97b9d4440ad1b6637ea21a0df546aa0d...</td>\n",
       "      <td>2016-12-17 23:30:00</td>\n",
       "      <td>2016-12-17 23:30:00</td>\n",
       "      <td>0.8</td>\n",
       "      <td>1.703128e+10</td>\n",
       "      <td>1.703183e+10</td>\n",
       "      <td>5.50</td>\n",
       "      <td>1.00</td>\n",
       "      <td>7.00</td>\n",
       "      <td>Credit Card</td>\n",
       "      <td>None</td>\n",
       "    </tr>\n",
       "    <tr>\n",
       "      <th>1</th>\n",
       "      <td>2d458675ac892b200cb039fbbe845e2e90c1131c</td>\n",
       "      <td>c12e0923159de80ee3288c44047308ab8f602fbfb2278f...</td>\n",
       "      <td>2016-02-20 02:30:00</td>\n",
       "      <td>2016-02-20 02:30:00</td>\n",
       "      <td>2.6</td>\n",
       "      <td>1.703108e+10</td>\n",
       "      <td>1.703124e+10</td>\n",
       "      <td>9.75</td>\n",
       "      <td>2.15</td>\n",
       "      <td>12.90</td>\n",
       "      <td>Credit Card</td>\n",
       "      <td>Choice Taxi Association</td>\n",
       "    </tr>\n",
       "    <tr>\n",
       "      <th>2</th>\n",
       "      <td>2d4587774ae4ef68c78e7f328c6b0a12873a50db</td>\n",
       "      <td>0083fcde0fb490b4ec424c63d1d750378f6ad11154d1d4...</td>\n",
       "      <td>2016-02-11 07:15:00</td>\n",
       "      <td>2016-02-11 07:45:00</td>\n",
       "      <td>0.8</td>\n",
       "      <td>NaN</td>\n",
       "      <td>NaN</td>\n",
       "      <td>39.50</td>\n",
       "      <td>0.00</td>\n",
       "      <td>39.50</td>\n",
       "      <td>Cash</td>\n",
       "      <td>Taxi Affiliation Services</td>\n",
       "    </tr>\n",
       "    <tr>\n",
       "      <th>3</th>\n",
       "      <td>2d458989ecc7bd5aa9f8657c4bbe430347ab5189</td>\n",
       "      <td>874b25eb25690a1a0361023234f59edeee52101733a1ab...</td>\n",
       "      <td>2016-08-17 18:45:00</td>\n",
       "      <td>2016-08-17 19:00:00</td>\n",
       "      <td>1.8</td>\n",
       "      <td>1.703108e+10</td>\n",
       "      <td>1.703183e+10</td>\n",
       "      <td>10.25</td>\n",
       "      <td>2.00</td>\n",
       "      <td>12.75</td>\n",
       "      <td>Credit Card</td>\n",
       "      <td>None</td>\n",
       "    </tr>\n",
       "    <tr>\n",
       "      <th>4</th>\n",
       "      <td>2d458a76dea4503ee43e5f6f41166a219eacb7ce</td>\n",
       "      <td>45772661016b0b77e44155eaf32f92d2f4e9e2702c0fc3...</td>\n",
       "      <td>2016-07-15 00:15:00</td>\n",
       "      <td>2016-07-15 00:30:00</td>\n",
       "      <td>5.1</td>\n",
       "      <td>NaN</td>\n",
       "      <td>NaN</td>\n",
       "      <td>16.50</td>\n",
       "      <td>3.00</td>\n",
       "      <td>21.00</td>\n",
       "      <td>Credit Card</td>\n",
       "      <td>Dispatch Taxi Affiliation</td>\n",
       "    </tr>\n",
       "  </tbody>\n",
       "</table>\n",
       "</div>"
      ],
      "text/plain": [
       "                                    trip_id  \\\n",
       "0  2d4585c3a01188a7032e7bea0f2ac686a869832c   \n",
       "1  2d458675ac892b200cb039fbbe845e2e90c1131c   \n",
       "2  2d4587774ae4ef68c78e7f328c6b0a12873a50db   \n",
       "3  2d458989ecc7bd5aa9f8657c4bbe430347ab5189   \n",
       "4  2d458a76dea4503ee43e5f6f41166a219eacb7ce   \n",
       "\n",
       "                                             taxi_id          start_time  \\\n",
       "0  fe33d0d63aa20b97b9d4440ad1b6637ea21a0df546aa0d... 2016-12-17 23:30:00   \n",
       "1  c12e0923159de80ee3288c44047308ab8f602fbfb2278f... 2016-02-20 02:30:00   \n",
       "2  0083fcde0fb490b4ec424c63d1d750378f6ad11154d1d4... 2016-02-11 07:15:00   \n",
       "3  874b25eb25690a1a0361023234f59edeee52101733a1ab... 2016-08-17 18:45:00   \n",
       "4  45772661016b0b77e44155eaf32f92d2f4e9e2702c0fc3... 2016-07-15 00:15:00   \n",
       "\n",
       "             end_time  trip_miles  pickup_census_tract  dropoff_census_tract  \\\n",
       "0 2016-12-17 23:30:00         0.8         1.703128e+10          1.703183e+10   \n",
       "1 2016-02-20 02:30:00         2.6         1.703108e+10          1.703124e+10   \n",
       "2 2016-02-11 07:45:00         0.8                  NaN                   NaN   \n",
       "3 2016-08-17 19:00:00         1.8         1.703108e+10          1.703183e+10   \n",
       "4 2016-07-15 00:30:00         5.1                  NaN                   NaN   \n",
       "\n",
       "    fare  tips  trip_total payment_type                    company  \n",
       "0   5.50  1.00        7.00  Credit Card                       None  \n",
       "1   9.75  2.15       12.90  Credit Card    Choice Taxi Association  \n",
       "2  39.50  0.00       39.50         Cash  Taxi Affiliation Services  \n",
       "3  10.25  2.00       12.75  Credit Card                       None  \n",
       "4  16.50  3.00       21.00  Credit Card  Dispatch Taxi Affiliation  "
      ]
     },
     "execution_count": 4,
     "metadata": {},
     "output_type": "execute_result"
    }
   ],
   "source": [
    "display(df)"
   ]
  },
  {
   "cell_type": "code",
   "execution_count": 5,
   "metadata": {},
   "outputs": [
    {
     "data": {
      "text/plain": [
       "['trip_id',\n",
       " 'taxi_id',\n",
       " 'start_time',\n",
       " 'end_time',\n",
       " 'trip_miles',\n",
       " 'pickup_census_tract',\n",
       " 'dropoff_census_tract',\n",
       " 'fare',\n",
       " 'tips',\n",
       " 'trip_total',\n",
       " 'payment_type',\n",
       " 'company']"
      ]
     },
     "execution_count": 5,
     "metadata": {},
     "output_type": "execute_result"
    }
   ],
   "source": [
    "df.columns"
   ]
  },
  {
   "cell_type": "code",
   "execution_count": 6,
   "metadata": {},
   "outputs": [
    {
     "name": "stdout",
     "output_type": "stream",
     "text": [
      "2996733\n"
     ]
    }
   ],
   "source": [
    "total_rows = df.count()\n",
    "print(total_rows)"
   ]
  },
  {
   "cell_type": "markdown",
   "metadata": {},
   "source": [
    "let's take a smaller sample so we can iterate faster"
   ]
  },
  {
   "cell_type": "code",
   "execution_count": 7,
   "metadata": {},
   "outputs": [],
   "source": [
    "df = df.sample(fraction=.1)"
   ]
  },
  {
   "cell_type": "code",
   "execution_count": 8,
   "metadata": {},
   "outputs": [
    {
     "data": {
      "text/plain": [
       "299607"
      ]
     },
     "execution_count": 8,
     "metadata": {},
     "output_type": "execute_result"
    }
   ],
   "source": [
    "df.count()"
   ]
  },
  {
   "cell_type": "markdown",
   "metadata": {},
   "source": [
    "### there are 3 main forms that data manipulations take:\n",
    " * some are dataframe methods (like `agg` or `count`)\n",
    " * some are functions that take a column or column name as input (like `countDistinct`)\n",
    " * some are column methods (like `alias`)\n"
   ]
  },
  {
   "cell_type": "code",
   "execution_count": 9,
   "metadata": {},
   "outputs": [
    {
     "data": {
      "text/html": [
       "<div>\n",
       "<style scoped>\n",
       "    .dataframe tbody tr th:only-of-type {\n",
       "        vertical-align: middle;\n",
       "    }\n",
       "\n",
       "    .dataframe tbody tr th {\n",
       "        vertical-align: top;\n",
       "    }\n",
       "\n",
       "    .dataframe thead th {\n",
       "        text-align: right;\n",
       "    }\n",
       "</style>\n",
       "<table border=\"1\" class=\"dataframe\">\n",
       "  <thead>\n",
       "    <tr style=\"text-align: right;\">\n",
       "      <th></th>\n",
       "      <th>num_taxis</th>\n",
       "    </tr>\n",
       "  </thead>\n",
       "  <tbody>\n",
       "    <tr>\n",
       "      <th>0</th>\n",
       "      <td>4651</td>\n",
       "    </tr>\n",
       "  </tbody>\n",
       "</table>\n",
       "</div>"
      ],
      "text/plain": [
       "   num_taxis\n",
       "0       4651"
      ]
     },
     "execution_count": 9,
     "metadata": {},
     "output_type": "execute_result"
    }
   ],
   "source": [
    "display(df.agg(f.countDistinct('taxi_id').alias('num_taxis')))"
   ]
  },
  {
   "cell_type": "code",
   "execution_count": 10,
   "metadata": {},
   "outputs": [],
   "source": [
    "# df.countDistinct('taxi_id') # NOT CORRECT SYNTAX"
   ]
  },
  {
   "cell_type": "code",
   "execution_count": 11,
   "metadata": {},
   "outputs": [],
   "source": [
    "# df.select(f.distinct(f.col('taxi_id'))) # NOT CORRECT SYNTAX"
   ]
  },
  {
   "cell_type": "code",
   "execution_count": 12,
   "metadata": {},
   "outputs": [
    {
     "data": {
      "text/plain": [
       "4651"
      ]
     },
     "execution_count": 12,
     "metadata": {},
     "output_type": "execute_result"
    }
   ],
   "source": [
    "df.select('taxi_id').distinct().count()"
   ]
  },
  {
   "cell_type": "markdown",
   "metadata": {},
   "source": [
    "### multiple aggregations\n",
    "\n",
    "✅ `df.agg(agg1, agg1)`\n",
    "\n",
    "❌ `df.agg([agg1, agg1])`\n",
    "\n",
    "✅ `df.agg(*[agg1, agg1])`"
   ]
  },
  {
   "cell_type": "code",
   "execution_count": 13,
   "metadata": {},
   "outputs": [],
   "source": [
    "total_rows = df.count()"
   ]
  },
  {
   "cell_type": "markdown",
   "metadata": {},
   "source": [
    "find percent non-null in each column:"
   ]
  },
  {
   "cell_type": "code",
   "execution_count": 14,
   "metadata": {},
   "outputs": [
    {
     "data": {
      "text/html": [
       "<div>\n",
       "<style scoped>\n",
       "    .dataframe tbody tr th:only-of-type {\n",
       "        vertical-align: middle;\n",
       "    }\n",
       "\n",
       "    .dataframe tbody tr th {\n",
       "        vertical-align: top;\n",
       "    }\n",
       "\n",
       "    .dataframe thead th {\n",
       "        text-align: right;\n",
       "    }\n",
       "</style>\n",
       "<table border=\"1\" class=\"dataframe\">\n",
       "  <thead>\n",
       "    <tr style=\"text-align: right;\">\n",
       "      <th></th>\n",
       "      <th>trip_id</th>\n",
       "      <th>taxi_id</th>\n",
       "      <th>start_time</th>\n",
       "      <th>end_time</th>\n",
       "      <th>trip_miles</th>\n",
       "      <th>pickup_census_tract</th>\n",
       "      <th>dropoff_census_tract</th>\n",
       "      <th>fare</th>\n",
       "      <th>tips</th>\n",
       "      <th>trip_total</th>\n",
       "      <th>payment_type</th>\n",
       "      <th>company</th>\n",
       "    </tr>\n",
       "  </thead>\n",
       "  <tbody>\n",
       "    <tr>\n",
       "      <th>0</th>\n",
       "      <td>1.0</td>\n",
       "      <td>1.0</td>\n",
       "      <td>1.0</td>\n",
       "      <td>0.99989</td>\n",
       "      <td>1.0</td>\n",
       "      <td>0.707457</td>\n",
       "      <td>0.704646</td>\n",
       "      <td>1.0</td>\n",
       "      <td>1.0</td>\n",
       "      <td>1.0</td>\n",
       "      <td>1.0</td>\n",
       "      <td>0.635286</td>\n",
       "    </tr>\n",
       "  </tbody>\n",
       "</table>\n",
       "</div>"
      ],
      "text/plain": [
       "   trip_id  taxi_id  start_time  end_time  trip_miles  pickup_census_tract  \\\n",
       "0      1.0      1.0         1.0   0.99989         1.0             0.707457   \n",
       "\n",
       "   dropoff_census_tract  fare  tips  trip_total  payment_type   company  \n",
       "0              0.704646   1.0   1.0         1.0           1.0  0.635286  "
      ]
     },
     "execution_count": 14,
     "metadata": {},
     "output_type": "execute_result"
    }
   ],
   "source": [
    "display(\n",
    "    df.agg(\n",
    "        *[(f.count(c)/total_rows).alias(c) for c in df.columns]\n",
    "    )\n",
    ")"
   ]
  },
  {
   "cell_type": "code",
   "execution_count": null,
   "metadata": {},
   "outputs": [],
   "source": []
  },
  {
   "cell_type": "markdown",
   "metadata": {},
   "source": [
    "### Visualizations"
   ]
  },
  {
   "cell_type": "code",
   "execution_count": 15,
   "metadata": {},
   "outputs": [],
   "source": [
    "trips_per_taxi = df.groupBy('taxi_id').count()"
   ]
  },
  {
   "cell_type": "code",
   "execution_count": 16,
   "metadata": {},
   "outputs": [
    {
     "data": {
      "text/html": [
       "<div>\n",
       "<style scoped>\n",
       "    .dataframe tbody tr th:only-of-type {\n",
       "        vertical-align: middle;\n",
       "    }\n",
       "\n",
       "    .dataframe tbody tr th {\n",
       "        vertical-align: top;\n",
       "    }\n",
       "\n",
       "    .dataframe thead th {\n",
       "        text-align: right;\n",
       "    }\n",
       "</style>\n",
       "<table border=\"1\" class=\"dataframe\">\n",
       "  <thead>\n",
       "    <tr style=\"text-align: right;\">\n",
       "      <th></th>\n",
       "      <th>taxi_id</th>\n",
       "      <th>count</th>\n",
       "    </tr>\n",
       "  </thead>\n",
       "  <tbody>\n",
       "    <tr>\n",
       "      <th>0</th>\n",
       "      <td>5339c272e8a85babf1e53c2ab4689a3225f1d8128d7c60...</td>\n",
       "      <td>94</td>\n",
       "    </tr>\n",
       "    <tr>\n",
       "      <th>1</th>\n",
       "      <td>a3715bdf7bbe4780c74ae3ef616fb1b7e0cff450b2c93a...</td>\n",
       "      <td>50</td>\n",
       "    </tr>\n",
       "    <tr>\n",
       "      <th>2</th>\n",
       "      <td>3ce16d151260438f64e60dbfdb5c395172745e87eb4032...</td>\n",
       "      <td>138</td>\n",
       "    </tr>\n",
       "    <tr>\n",
       "      <th>3</th>\n",
       "      <td>bb7eb49d01457ba3d389fa22e21f51c681a38b1032e6b2...</td>\n",
       "      <td>79</td>\n",
       "    </tr>\n",
       "    <tr>\n",
       "      <th>4</th>\n",
       "      <td>1e4ba7f6a2c79ac2220073aa7006dd757feed6b12d4a40...</td>\n",
       "      <td>94</td>\n",
       "    </tr>\n",
       "    <tr>\n",
       "      <th>5</th>\n",
       "      <td>7da8dfbf5db7bed94dd92856d29697c070590f703b0b29...</td>\n",
       "      <td>49</td>\n",
       "    </tr>\n",
       "    <tr>\n",
       "      <th>6</th>\n",
       "      <td>2da10ef251c77931d8faab56db31e4da1a420c077b8561...</td>\n",
       "      <td>71</td>\n",
       "    </tr>\n",
       "    <tr>\n",
       "      <th>7</th>\n",
       "      <td>da1fa60939f1104bf62e3da8810c71674cc212235ae04c...</td>\n",
       "      <td>68</td>\n",
       "    </tr>\n",
       "    <tr>\n",
       "      <th>8</th>\n",
       "      <td>0e21caaf401f961b7ae5a4c3d8c5b70291ccc2b6c2138c...</td>\n",
       "      <td>168</td>\n",
       "    </tr>\n",
       "    <tr>\n",
       "      <th>9</th>\n",
       "      <td>cce26db27b3d8d566473e326d450541ea93cbcec5ed6d4...</td>\n",
       "      <td>144</td>\n",
       "    </tr>\n",
       "  </tbody>\n",
       "</table>\n",
       "</div>"
      ],
      "text/plain": [
       "                                             taxi_id  count\n",
       "0  5339c272e8a85babf1e53c2ab4689a3225f1d8128d7c60...     94\n",
       "1  a3715bdf7bbe4780c74ae3ef616fb1b7e0cff450b2c93a...     50\n",
       "2  3ce16d151260438f64e60dbfdb5c395172745e87eb4032...    138\n",
       "3  bb7eb49d01457ba3d389fa22e21f51c681a38b1032e6b2...     79\n",
       "4  1e4ba7f6a2c79ac2220073aa7006dd757feed6b12d4a40...     94\n",
       "5  7da8dfbf5db7bed94dd92856d29697c070590f703b0b29...     49\n",
       "6  2da10ef251c77931d8faab56db31e4da1a420c077b8561...     71\n",
       "7  da1fa60939f1104bf62e3da8810c71674cc212235ae04c...     68\n",
       "8  0e21caaf401f961b7ae5a4c3d8c5b70291ccc2b6c2138c...    168\n",
       "9  cce26db27b3d8d566473e326d450541ea93cbcec5ed6d4...    144"
      ]
     },
     "execution_count": 16,
     "metadata": {},
     "output_type": "execute_result"
    }
   ],
   "source": [
    "display(trips_per_taxi, 10)"
   ]
  },
  {
   "cell_type": "code",
   "execution_count": 17,
   "metadata": {},
   "outputs": [
    {
     "data": {
      "image/png": "[encoded data removed]",
      "text/plain": [
       "<Figure size 432x288 with 1 Axes>"
      ]
     },
     "metadata": {
      "needs_background": "light"
     },
     "output_type": "display_data"
    }
   ],
   "source": [
    "plt.figure()\n",
    "sns.distplot(trips_per_taxi.select('count').toPandas()).set_title('Trips Per Taxi');"
   ]
  },
  {
   "cell_type": "code",
   "execution_count": 18,
   "metadata": {},
   "outputs": [],
   "source": [
    "distance_traveled_per_taxi = (\n",
    "    df\n",
    "    .groupBy('taxi_id')\n",
    "    .agg(f.sum('trip_miles').alias('miles'), f.max('trip_miles').alias('max_miles'))\n",
    ")"
   ]
  },
  {
   "cell_type": "code",
   "execution_count": 19,
   "metadata": {},
   "outputs": [
    {
     "data": {
      "text/html": [
       "<div>\n",
       "<style scoped>\n",
       "    .dataframe tbody tr th:only-of-type {\n",
       "        vertical-align: middle;\n",
       "    }\n",
       "\n",
       "    .dataframe tbody tr th {\n",
       "        vertical-align: top;\n",
       "    }\n",
       "\n",
       "    .dataframe thead th {\n",
       "        text-align: right;\n",
       "    }\n",
       "</style>\n",
       "<table border=\"1\" class=\"dataframe\">\n",
       "  <thead>\n",
       "    <tr style=\"text-align: right;\">\n",
       "      <th></th>\n",
       "      <th>taxi_id</th>\n",
       "      <th>miles</th>\n",
       "      <th>max_miles</th>\n",
       "    </tr>\n",
       "  </thead>\n",
       "  <tbody>\n",
       "    <tr>\n",
       "      <th>0</th>\n",
       "      <td>5339c272e8a85babf1e53c2ab4689a3225f1d8128d7c60...</td>\n",
       "      <td>376.0</td>\n",
       "      <td>24.2</td>\n",
       "    </tr>\n",
       "    <tr>\n",
       "      <th>1</th>\n",
       "      <td>a3715bdf7bbe4780c74ae3ef616fb1b7e0cff450b2c93a...</td>\n",
       "      <td>236.9</td>\n",
       "      <td>21.0</td>\n",
       "    </tr>\n",
       "    <tr>\n",
       "      <th>2</th>\n",
       "      <td>3ce16d151260438f64e60dbfdb5c395172745e87eb4032...</td>\n",
       "      <td>342.7</td>\n",
       "      <td>18.7</td>\n",
       "    </tr>\n",
       "    <tr>\n",
       "      <th>3</th>\n",
       "      <td>bb7eb49d01457ba3d389fa22e21f51c681a38b1032e6b2...</td>\n",
       "      <td>267.3</td>\n",
       "      <td>17.8</td>\n",
       "    </tr>\n",
       "    <tr>\n",
       "      <th>4</th>\n",
       "      <td>1e4ba7f6a2c79ac2220073aa7006dd757feed6b12d4a40...</td>\n",
       "      <td>265.2</td>\n",
       "      <td>18.0</td>\n",
       "    </tr>\n",
       "    <tr>\n",
       "      <th>5</th>\n",
       "      <td>7da8dfbf5db7bed94dd92856d29697c070590f703b0b29...</td>\n",
       "      <td>239.5</td>\n",
       "      <td>17.9</td>\n",
       "    </tr>\n",
       "    <tr>\n",
       "      <th>6</th>\n",
       "      <td>2da10ef251c77931d8faab56db31e4da1a420c077b8561...</td>\n",
       "      <td>228.2</td>\n",
       "      <td>21.7</td>\n",
       "    </tr>\n",
       "    <tr>\n",
       "      <th>7</th>\n",
       "      <td>da1fa60939f1104bf62e3da8810c71674cc212235ae04c...</td>\n",
       "      <td>275.3</td>\n",
       "      <td>22.2</td>\n",
       "    </tr>\n",
       "    <tr>\n",
       "      <th>8</th>\n",
       "      <td>0e21caaf401f961b7ae5a4c3d8c5b70291ccc2b6c2138c...</td>\n",
       "      <td>26.8</td>\n",
       "      <td>1.6</td>\n",
       "    </tr>\n",
       "    <tr>\n",
       "      <th>9</th>\n",
       "      <td>cce26db27b3d8d566473e326d450541ea93cbcec5ed6d4...</td>\n",
       "      <td>474.9</td>\n",
       "      <td>29.5</td>\n",
       "    </tr>\n",
       "  </tbody>\n",
       "</table>\n",
       "</div>"
      ],
      "text/plain": [
       "                                             taxi_id  miles  max_miles\n",
       "0  5339c272e8a85babf1e53c2ab4689a3225f1d8128d7c60...  376.0       24.2\n",
       "1  a3715bdf7bbe4780c74ae3ef616fb1b7e0cff450b2c93a...  236.9       21.0\n",
       "2  3ce16d151260438f64e60dbfdb5c395172745e87eb4032...  342.7       18.7\n",
       "3  bb7eb49d01457ba3d389fa22e21f51c681a38b1032e6b2...  267.3       17.8\n",
       "4  1e4ba7f6a2c79ac2220073aa7006dd757feed6b12d4a40...  265.2       18.0\n",
       "5  7da8dfbf5db7bed94dd92856d29697c070590f703b0b29...  239.5       17.9\n",
       "6  2da10ef251c77931d8faab56db31e4da1a420c077b8561...  228.2       21.7\n",
       "7  da1fa60939f1104bf62e3da8810c71674cc212235ae04c...  275.3       22.2\n",
       "8  0e21caaf401f961b7ae5a4c3d8c5b70291ccc2b6c2138c...   26.8        1.6\n",
       "9  cce26db27b3d8d566473e326d450541ea93cbcec5ed6d4...  474.9       29.5"
      ]
     },
     "execution_count": 19,
     "metadata": {},
     "output_type": "execute_result"
    }
   ],
   "source": [
    "display(distance_traveled_per_taxi, 10)"
   ]
  },
  {
   "cell_type": "code",
   "execution_count": 20,
   "metadata": {},
   "outputs": [
    {
     "data": {
      "image/png": "[encoded data removed]",
      "text/plain": [
       "<Figure size 432x288 with 1 Axes>"
      ]
     },
     "metadata": {
      "needs_background": "light"
     },
     "output_type": "display_data"
    }
   ],
   "source": [
    "plt.figure()\n",
    "(\n",
    "    sns\n",
    "    .distplot(distance_traveled_per_taxi.select('miles').toPandas())\n",
    "    .set_title('Miles Traveled Per Taxi')\n",
    ");"
   ]
  },
  {
   "cell_type": "code",
   "execution_count": 21,
   "metadata": {},
   "outputs": [
    {
     "data": {
      "image/png": "[encoded data removed]",
      "text/plain": [
       "<Figure size 432x288 with 1 Axes>"
      ]
     },
     "metadata": {
      "needs_background": "light"
     },
     "output_type": "display_data"
    }
   ],
   "source": [
    "plt.figure()\n",
    "(\n",
    "    sns\n",
    "    .distplot(distance_traveled_per_taxi.where('miles < 1000').select('miles').toPandas())\n",
    "    .set_title('Miles Traveled Per Taxi (capped at 1000)')\n",
    ");"
   ]
  },
  {
   "cell_type": "code",
   "execution_count": 22,
   "metadata": {},
   "outputs": [
    {
     "data": {
      "text/html": [
       "<div>\n",
       "<style scoped>\n",
       "    .dataframe tbody tr th:only-of-type {\n",
       "        vertical-align: middle;\n",
       "    }\n",
       "\n",
       "    .dataframe tbody tr th {\n",
       "        vertical-align: top;\n",
       "    }\n",
       "\n",
       "    .dataframe thead th {\n",
       "        text-align: right;\n",
       "    }\n",
       "</style>\n",
       "<table border=\"1\" class=\"dataframe\">\n",
       "  <thead>\n",
       "    <tr style=\"text-align: right;\">\n",
       "      <th></th>\n",
       "      <th>taxi_id</th>\n",
       "      <th>miles</th>\n",
       "      <th>max_miles</th>\n",
       "    </tr>\n",
       "  </thead>\n",
       "  <tbody>\n",
       "    <tr>\n",
       "      <th>0</th>\n",
       "      <td>435c3f0bb3774c35800330140eb6a9027c7f72033f0a60...</td>\n",
       "      <td>22488.2</td>\n",
       "      <td>1790.0</td>\n",
       "    </tr>\n",
       "    <tr>\n",
       "      <th>1</th>\n",
       "      <td>3ae312cce1e5d2337872c81e8f1e7873a88de4d26fd7ae...</td>\n",
       "      <td>17252.8</td>\n",
       "      <td>1970.0</td>\n",
       "    </tr>\n",
       "    <tr>\n",
       "      <th>2</th>\n",
       "      <td>770c8eeffb35f5fb925ceecfac5201171e3ecdaf5bacaa...</td>\n",
       "      <td>13535.9</td>\n",
       "      <td>1840.0</td>\n",
       "    </tr>\n",
       "    <tr>\n",
       "      <th>3</th>\n",
       "      <td>11cec1092eb4f4b50433778d436f251983dd37d567f709...</td>\n",
       "      <td>12598.0</td>\n",
       "      <td>1780.0</td>\n",
       "    </tr>\n",
       "    <tr>\n",
       "      <th>4</th>\n",
       "      <td>26d55de9d7e34ab98da76d4c1c5e7d5c5507bc02dcdbb4...</td>\n",
       "      <td>11883.3</td>\n",
       "      <td>2480.0</td>\n",
       "    </tr>\n",
       "    <tr>\n",
       "      <th>5</th>\n",
       "      <td>6c102217d9b79e673a7f41e646aaa9c519dff7d3850f86...</td>\n",
       "      <td>10988.9</td>\n",
       "      <td>1780.0</td>\n",
       "    </tr>\n",
       "    <tr>\n",
       "      <th>6</th>\n",
       "      <td>0ee86e2a204cc2224e9ff2494686ee474cce6aba093a1b...</td>\n",
       "      <td>8915.5</td>\n",
       "      <td>1830.0</td>\n",
       "    </tr>\n",
       "    <tr>\n",
       "      <th>7</th>\n",
       "      <td>3a27defb5d45f78ffccdc4b08f679a5d75f4bdebf9f9c0...</td>\n",
       "      <td>8166.4</td>\n",
       "      <td>1800.0</td>\n",
       "    </tr>\n",
       "    <tr>\n",
       "      <th>8</th>\n",
       "      <td>17115662c9dd034ea6956fc43b9be4653b7ada5ee06582...</td>\n",
       "      <td>7398.3</td>\n",
       "      <td>1730.0</td>\n",
       "    </tr>\n",
       "    <tr>\n",
       "      <th>9</th>\n",
       "      <td>93d7461f270fbd0bf1d961575942b018e48b4098378028...</td>\n",
       "      <td>6911.1</td>\n",
       "      <td>1690.0</td>\n",
       "    </tr>\n",
       "  </tbody>\n",
       "</table>\n",
       "</div>"
      ],
      "text/plain": [
       "                                             taxi_id    miles  max_miles\n",
       "0  435c3f0bb3774c35800330140eb6a9027c7f72033f0a60...  22488.2     1790.0\n",
       "1  3ae312cce1e5d2337872c81e8f1e7873a88de4d26fd7ae...  17252.8     1970.0\n",
       "2  770c8eeffb35f5fb925ceecfac5201171e3ecdaf5bacaa...  13535.9     1840.0\n",
       "3  11cec1092eb4f4b50433778d436f251983dd37d567f709...  12598.0     1780.0\n",
       "4  26d55de9d7e34ab98da76d4c1c5e7d5c5507bc02dcdbb4...  11883.3     2480.0\n",
       "5  6c102217d9b79e673a7f41e646aaa9c519dff7d3850f86...  10988.9     1780.0\n",
       "6  0ee86e2a204cc2224e9ff2494686ee474cce6aba093a1b...   8915.5     1830.0\n",
       "7  3a27defb5d45f78ffccdc4b08f679a5d75f4bdebf9f9c0...   8166.4     1800.0\n",
       "8  17115662c9dd034ea6956fc43b9be4653b7ada5ee06582...   7398.3     1730.0\n",
       "9  93d7461f270fbd0bf1d961575942b018e48b4098378028...   6911.1     1690.0"
      ]
     },
     "execution_count": 22,
     "metadata": {},
     "output_type": "execute_result"
    }
   ],
   "source": [
    "display(distance_traveled_per_taxi.orderBy('miles', ascending=False), 10)"
   ]
  },
  {
   "cell_type": "markdown",
   "metadata": {},
   "source": [
    "### Alternate filering syntax:\n",
    "`distance_traveled_per_taxi.where(f.col('miles') < 1000)`\n",
    "\n",
    "`distance_traveled_per_taxi.filter(f.col('miles') < 1000)`\n",
    "\n",
    "`distance_traveled_per_taxi.where('miles < 1000')`\n",
    "\n",
    "`distance_traveled_per_taxi.filter('miles < 1000')`"
   ]
  },
  {
   "cell_type": "markdown",
   "metadata": {},
   "source": [
    "## Exercises"
   ]
  },
  {
   "cell_type": "markdown",
   "metadata": {},
   "source": [
    "### when do most trips occur? "
   ]
  },
  {
   "cell_type": "code",
   "execution_count": 23,
   "metadata": {},
   "outputs": [
    {
     "data": {
      "text/html": [
       "<div>\n",
       "<style scoped>\n",
       "    .dataframe tbody tr th:only-of-type {\n",
       "        vertical-align: middle;\n",
       "    }\n",
       "\n",
       "    .dataframe tbody tr th {\n",
       "        vertical-align: top;\n",
       "    }\n",
       "\n",
       "    .dataframe thead th {\n",
       "        text-align: right;\n",
       "    }\n",
       "</style>\n",
       "<table border=\"1\" class=\"dataframe\">\n",
       "  <thead>\n",
       "    <tr style=\"text-align: right;\">\n",
       "      <th></th>\n",
       "      <th>hour(start_time)</th>\n",
       "      <th>count</th>\n",
       "    </tr>\n",
       "  </thead>\n",
       "  <tbody>\n",
       "    <tr>\n",
       "      <th>0</th>\n",
       "      <td>19</td>\n",
       "      <td>20327</td>\n",
       "    </tr>\n",
       "    <tr>\n",
       "      <th>1</th>\n",
       "      <td>18</td>\n",
       "      <td>20229</td>\n",
       "    </tr>\n",
       "    <tr>\n",
       "      <th>2</th>\n",
       "      <td>17</td>\n",
       "      <td>18679</td>\n",
       "    </tr>\n",
       "    <tr>\n",
       "      <th>3</th>\n",
       "      <td>20</td>\n",
       "      <td>17989</td>\n",
       "    </tr>\n",
       "    <tr>\n",
       "      <th>4</th>\n",
       "      <td>16</td>\n",
       "      <td>17290</td>\n",
       "    </tr>\n",
       "    <tr>\n",
       "      <th>5</th>\n",
       "      <td>13</td>\n",
       "      <td>15766</td>\n",
       "    </tr>\n",
       "    <tr>\n",
       "      <th>6</th>\n",
       "      <td>14</td>\n",
       "      <td>15689</td>\n",
       "    </tr>\n",
       "    <tr>\n",
       "      <th>7</th>\n",
       "      <td>15</td>\n",
       "      <td>15624</td>\n",
       "    </tr>\n",
       "    <tr>\n",
       "      <th>8</th>\n",
       "      <td>12</td>\n",
       "      <td>15529</td>\n",
       "    </tr>\n",
       "    <tr>\n",
       "      <th>9</th>\n",
       "      <td>21</td>\n",
       "      <td>15376</td>\n",
       "    </tr>\n",
       "  </tbody>\n",
       "</table>\n",
       "</div>"
      ],
      "text/plain": [
       "   hour(start_time)  count\n",
       "0                19  20327\n",
       "1                18  20229\n",
       "2                17  18679\n",
       "3                20  17989\n",
       "4                16  17290\n",
       "5                13  15766\n",
       "6                14  15689\n",
       "7                15  15624\n",
       "8                12  15529\n",
       "9                21  15376"
      ]
     },
     "execution_count": 23,
     "metadata": {},
     "output_type": "execute_result"
    }
   ],
   "source": [
    "display(\n",
    "    df\n",
    "    .groupby(f.hour('start_time'))\n",
    "    .count()\n",
    "    .orderBy(f.desc('count')),\n",
    "    10\n",
    ")\n",
    "\n",
    "# Looks like early evening is most popular, with most trips starting between 5-7pm"
   ]
  },
  {
   "cell_type": "markdown",
   "metadata": {},
   "source": [
    "### what's the most common length for a trip in miles? in minutes?"
   ]
  },
  {
   "cell_type": "code",
   "execution_count": 24,
   "metadata": {},
   "outputs": [
    {
     "data": {
      "text/html": [
       "<div>\n",
       "<style scoped>\n",
       "    .dataframe tbody tr th:only-of-type {\n",
       "        vertical-align: middle;\n",
       "    }\n",
       "\n",
       "    .dataframe tbody tr th {\n",
       "        vertical-align: top;\n",
       "    }\n",
       "\n",
       "    .dataframe thead th {\n",
       "        text-align: right;\n",
       "    }\n",
       "</style>\n",
       "<table border=\"1\" class=\"dataframe\">\n",
       "  <thead>\n",
       "    <tr style=\"text-align: right;\">\n",
       "      <th></th>\n",
       "      <th>trip_miles</th>\n",
       "      <th>count</th>\n",
       "    </tr>\n",
       "  </thead>\n",
       "  <tbody>\n",
       "    <tr>\n",
       "      <th>0</th>\n",
       "      <td>0.0</td>\n",
       "      <td>58644</td>\n",
       "    </tr>\n",
       "    <tr>\n",
       "      <th>1</th>\n",
       "      <td>0.1</td>\n",
       "      <td>10971</td>\n",
       "    </tr>\n",
       "    <tr>\n",
       "      <th>2</th>\n",
       "      <td>1.0</td>\n",
       "      <td>10361</td>\n",
       "    </tr>\n",
       "    <tr>\n",
       "      <th>3</th>\n",
       "      <td>0.9</td>\n",
       "      <td>9870</td>\n",
       "    </tr>\n",
       "    <tr>\n",
       "      <th>4</th>\n",
       "      <td>0.8</td>\n",
       "      <td>9861</td>\n",
       "    </tr>\n",
       "    <tr>\n",
       "      <th>5</th>\n",
       "      <td>1.1</td>\n",
       "      <td>9798</td>\n",
       "    </tr>\n",
       "    <tr>\n",
       "      <th>6</th>\n",
       "      <td>0.7</td>\n",
       "      <td>9418</td>\n",
       "    </tr>\n",
       "    <tr>\n",
       "      <th>7</th>\n",
       "      <td>1.2</td>\n",
       "      <td>8102</td>\n",
       "    </tr>\n",
       "    <tr>\n",
       "      <th>8</th>\n",
       "      <td>0.6</td>\n",
       "      <td>8025</td>\n",
       "    </tr>\n",
       "    <tr>\n",
       "      <th>9</th>\n",
       "      <td>1.3</td>\n",
       "      <td>7297</td>\n",
       "    </tr>\n",
       "  </tbody>\n",
       "</table>\n",
       "</div>"
      ],
      "text/plain": [
       "   trip_miles  count\n",
       "0         0.0  58644\n",
       "1         0.1  10971\n",
       "2         1.0  10361\n",
       "3         0.9   9870\n",
       "4         0.8   9861\n",
       "5         1.1   9798\n",
       "6         0.7   9418\n",
       "7         1.2   8102\n",
       "8         0.6   8025\n",
       "9         1.3   7297"
      ]
     },
     "execution_count": 24,
     "metadata": {},
     "output_type": "execute_result"
    }
   ],
   "source": [
    "display(df.groupBy('trip_miles').count().orderBy(f.desc('count')), 10)\n",
    "\n",
    "# Looks like most trips are under a mile, with the highest number being listed at 0 miles \n",
    "# (remember these distances are rounded)"
   ]
  },
  {
   "cell_type": "code",
   "execution_count": 25,
   "metadata": {},
   "outputs": [
    {
     "data": {
      "text/html": [
       "<div>\n",
       "<style scoped>\n",
       "    .dataframe tbody tr th:only-of-type {\n",
       "        vertical-align: middle;\n",
       "    }\n",
       "\n",
       "    .dataframe tbody tr th {\n",
       "        vertical-align: top;\n",
       "    }\n",
       "\n",
       "    .dataframe thead th {\n",
       "        text-align: right;\n",
       "    }\n",
       "</style>\n",
       "<table border=\"1\" class=\"dataframe\">\n",
       "  <thead>\n",
       "    <tr style=\"text-align: right;\">\n",
       "      <th></th>\n",
       "      <th>minutes</th>\n",
       "      <th>count</th>\n",
       "    </tr>\n",
       "  </thead>\n",
       "  <tbody>\n",
       "    <tr>\n",
       "      <th>0</th>\n",
       "      <td>15.0</td>\n",
       "      <td>144230</td>\n",
       "    </tr>\n",
       "    <tr>\n",
       "      <th>1</th>\n",
       "      <td>0.0</td>\n",
       "      <td>107159</td>\n",
       "    </tr>\n",
       "    <tr>\n",
       "      <th>2</th>\n",
       "      <td>30.0</td>\n",
       "      <td>31370</td>\n",
       "    </tr>\n",
       "    <tr>\n",
       "      <th>3</th>\n",
       "      <td>45.0</td>\n",
       "      <td>11040</td>\n",
       "    </tr>\n",
       "    <tr>\n",
       "      <th>4</th>\n",
       "      <td>60.0</td>\n",
       "      <td>3927</td>\n",
       "    </tr>\n",
       "    <tr>\n",
       "      <th>5</th>\n",
       "      <td>75.0</td>\n",
       "      <td>1187</td>\n",
       "    </tr>\n",
       "    <tr>\n",
       "      <th>6</th>\n",
       "      <td>90.0</td>\n",
       "      <td>323</td>\n",
       "    </tr>\n",
       "    <tr>\n",
       "      <th>7</th>\n",
       "      <td>105.0</td>\n",
       "      <td>105</td>\n",
       "    </tr>\n",
       "    <tr>\n",
       "      <th>8</th>\n",
       "      <td>120.0</td>\n",
       "      <td>52</td>\n",
       "    </tr>\n",
       "    <tr>\n",
       "      <th>9</th>\n",
       "      <td>NaN</td>\n",
       "      <td>33</td>\n",
       "    </tr>\n",
       "  </tbody>\n",
       "</table>\n",
       "</div>"
      ],
      "text/plain": [
       "   minutes   count\n",
       "0     15.0  144230\n",
       "1      0.0  107159\n",
       "2     30.0   31370\n",
       "3     45.0   11040\n",
       "4     60.0    3927\n",
       "5     75.0    1187\n",
       "6     90.0     323\n",
       "7    105.0     105\n",
       "8    120.0      52\n",
       "9      NaN      33"
      ]
     },
     "execution_count": 25,
     "metadata": {},
     "output_type": "execute_result"
    }
   ],
   "source": [
    "trip_length_minutes = (\n",
    "    df\n",
    "    .withColumn(\n",
    "        'minutes',\n",
    "        (f.unix_timestamp(f.col('end_time')) - f.unix_timestamp(f.col('start_time')))/60\n",
    "    )\n",
    "    .groupBy('minutes')\n",
    "    .count()\n",
    ")\n",
    "\n",
    "display(trip_length_minutes.orderBy('count', ascending=False), 10)\n",
    "\n",
    "# The vast majority are under an hour, with most being around 15 minutes (this data is rounded to the nearest 15)"
   ]
  },
  {
   "cell_type": "markdown",
   "metadata": {},
   "source": [
    "### are there companies that only use cash or only use credit?"
   ]
  },
  {
   "cell_type": "code",
   "execution_count": 26,
   "metadata": {},
   "outputs": [
    {
     "name": "stdout",
     "output_type": "stream",
     "text": [
      "54 companies use cash, 52 companies use credit\n"
     ]
    }
   ],
   "source": [
    "cash = (\n",
    "    df\n",
    "    .where('payment_type == \"Cash\"')\n",
    "    .where('company is not null')\n",
    "    .select('company')\n",
    "    .distinct()\n",
    ")\n",
    "credit = (\n",
    "    df\n",
    "    .where('payment_type == \"Credit Card\"')\n",
    "    .where('company is not null')\n",
    "    .select('company')\n",
    "    .distinct()\n",
    ")\n",
    "\n",
    "print('{} companies use cash, {} companies use credit'.format(cash.count(), credit.count()))\n"
   ]
  },
  {
   "cell_type": "code",
   "execution_count": 27,
   "metadata": {},
   "outputs": [
    {
     "data": {
      "text/html": [
       "<div>\n",
       "<style scoped>\n",
       "    .dataframe tbody tr th:only-of-type {\n",
       "        vertical-align: middle;\n",
       "    }\n",
       "\n",
       "    .dataframe tbody tr th {\n",
       "        vertical-align: top;\n",
       "    }\n",
       "\n",
       "    .dataframe thead th {\n",
       "        text-align: right;\n",
       "    }\n",
       "</style>\n",
       "<table border=\"1\" class=\"dataframe\">\n",
       "  <thead>\n",
       "    <tr style=\"text-align: right;\">\n",
       "      <th></th>\n",
       "      <th>company</th>\n",
       "    </tr>\n",
       "  </thead>\n",
       "  <tbody>\n",
       "    <tr>\n",
       "      <th>0</th>\n",
       "      <td>4732 - Maude Lamy</td>\n",
       "    </tr>\n",
       "    <tr>\n",
       "      <th>1</th>\n",
       "      <td>Chicago Elite Cab Corp. (Chicago Carriag</td>\n",
       "    </tr>\n",
       "    <tr>\n",
       "      <th>2</th>\n",
       "      <td>2092 - 61288 Sbeih company</td>\n",
       "    </tr>\n",
       "  </tbody>\n",
       "</table>\n",
       "</div>"
      ],
      "text/plain": [
       "                                    company\n",
       "0                         4732 - Maude Lamy\n",
       "1  Chicago Elite Cab Corp. (Chicago Carriag\n",
       "2                2092 - 61288 Sbeih company"
      ]
     },
     "execution_count": 27,
     "metadata": {},
     "output_type": "execute_result"
    }
   ],
   "source": [
    "display(cash.join(credit, on='company', how='left_anti')) # select rows in cash that are not in credit"
   ]
  },
  {
   "cell_type": "code",
   "execution_count": 28,
   "metadata": {},
   "outputs": [
    {
     "data": {
      "text/html": [
       "<div>\n",
       "<style scoped>\n",
       "    .dataframe tbody tr th:only-of-type {\n",
       "        vertical-align: middle;\n",
       "    }\n",
       "\n",
       "    .dataframe tbody tr th {\n",
       "        vertical-align: top;\n",
       "    }\n",
       "\n",
       "    .dataframe thead th {\n",
       "        text-align: right;\n",
       "    }\n",
       "</style>\n",
       "<table border=\"1\" class=\"dataframe\">\n",
       "  <thead>\n",
       "    <tr style=\"text-align: right;\">\n",
       "      <th></th>\n",
       "      <th>company</th>\n",
       "    </tr>\n",
       "  </thead>\n",
       "  <tbody>\n",
       "    <tr>\n",
       "      <th>0</th>\n",
       "      <td>Suburban Dispatch LLC</td>\n",
       "    </tr>\n",
       "  </tbody>\n",
       "</table>\n",
       "</div>"
      ],
      "text/plain": [
       "                 company\n",
       "0  Suburban Dispatch LLC"
      ]
     },
     "execution_count": 28,
     "metadata": {},
     "output_type": "execute_result"
    }
   ],
   "source": [
    "display(credit.join(cash, on='company', how='left_anti')) # select rows in credit that are not in cash"
   ]
  },
  {
   "cell_type": "code",
   "execution_count": 29,
   "metadata": {},
   "outputs": [],
   "source": [
    "spark.stop()"
   ]
  },
  {
   "cell_type": "code",
   "execution_count": null,
   "metadata": {},
   "outputs": [],
   "source": []
  }
 ],
 "metadata": {
  "kernelspec": {
   "display_name": "Python 3",
   "language": "python",
   "name": "python3"
  },
  "language_info": {
   "codemirror_mode": {
    "name": "ipython",
    "version": 3
   },
   "file_extension": ".py",
   "mimetype": "text/x-python",
   "name": "python",
   "nbconvert_exporter": "python",
   "pygments_lexer": "ipython3",
   "version": "3.7.3"
  }
 },
 "nbformat": 4,
 "nbformat_minor": 2
}
